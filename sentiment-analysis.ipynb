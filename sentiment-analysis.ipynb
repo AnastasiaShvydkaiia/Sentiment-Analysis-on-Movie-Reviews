{
 "cells": [
  {
   "cell_type": "markdown",
   "metadata": {},
   "source": [
    "# Sentiment Analysis on Movie Reviews"
   ]
  },
  {
   "cell_type": "markdown",
   "metadata": {},
   "source": [
    "## Importing Libraries"
   ]
  },
  {
   "cell_type": "code",
   "execution_count": 1,
   "metadata": {},
   "outputs": [],
   "source": [
    "# Data retrieval\n",
    "import tarfile\n",
    "\n",
    "# Preprocessing\n",
    "import re\n",
    "import numpy as np\n",
    "import pandas as pd\n",
    "import matplotlib.pyplot as plt\n",
    "from unidecode import unidecode\n",
    "from nltk.corpus import stopwords, wordnet\n",
    "from nltk.stem.snowball import SnowballStemmer\n",
    "from emot.emo_unicode import UNICODE_EMOJI, EMOTICONS_EMO\n",
    "from sklearn.feature_extraction.text import TfidfVectorizer\n",
    "from sklearn.model_selection import train_test_split\n",
    "\n",
    "# Modelling\n",
    "from sklearn.linear_model import LogisticRegression\n",
    "from sklearn.naive_bayes import MultinomialNB\n",
    "from sklearn.svm import SVC\n",
    "from sklearn.model_selection import GridSearchCV\n",
    "from sklearn.pipeline import Pipeline\n",
    "from sklearn.feature_selection import chi2, SelectPercentile\n",
    "\n",
    "# Evaluation\n",
    "from sklearn.metrics import accuracy_score\n",
    "from sklearn.metrics import confusion_matrix, roc_curve, auc, classification_report\n",
    "import pickle"
   ]
  },
  {
   "cell_type": "code",
   "execution_count": 2,
   "metadata": {},
   "outputs": [],
   "source": [
    "RANDOM_SEED=42"
   ]
  },
  {
   "cell_type": "markdown",
   "metadata": {},
   "source": [
    "## Importing Data"
   ]
  },
  {
   "cell_type": "code",
   "execution_count": 3,
   "metadata": {},
   "outputs": [
    {
     "data": {
      "text/html": [
       "<div>\n",
       "<style scoped>\n",
       "    .dataframe tbody tr th:only-of-type {\n",
       "        vertical-align: middle;\n",
       "    }\n",
       "\n",
       "    .dataframe tbody tr th {\n",
       "        vertical-align: top;\n",
       "    }\n",
       "\n",
       "    .dataframe thead th {\n",
       "        text-align: right;\n",
       "    }\n",
       "</style>\n",
       "<table border=\"1\" class=\"dataframe\">\n",
       "  <thead>\n",
       "    <tr style=\"text-align: right;\">\n",
       "      <th></th>\n",
       "      <th>review</th>\n",
       "      <th>sentiment</th>\n",
       "    </tr>\n",
       "  </thead>\n",
       "  <tbody>\n",
       "    <tr>\n",
       "      <th>0</th>\n",
       "      <td>The very first talking picture has returned fr...</td>\n",
       "      <td>1</td>\n",
       "    </tr>\n",
       "    <tr>\n",
       "      <th>1</th>\n",
       "      <td>Much to your presumable happiness fair readers...</td>\n",
       "      <td>1</td>\n",
       "    </tr>\n",
       "    <tr>\n",
       "      <th>2</th>\n",
       "      <td>There are no people like \"Show People\" Marion ...</td>\n",
       "      <td>1</td>\n",
       "    </tr>\n",
       "    <tr>\n",
       "      <th>3</th>\n",
       "      <td>OK, this movie starts out like a cheesy Lifeti...</td>\n",
       "      <td>1</td>\n",
       "    </tr>\n",
       "    <tr>\n",
       "      <th>4</th>\n",
       "      <td>Pretty visuals and a lot of fights make not a ...</td>\n",
       "      <td>0</td>\n",
       "    </tr>\n",
       "  </tbody>\n",
       "</table>\n",
       "</div>"
      ],
      "text/plain": [
       "                                              review  sentiment\n",
       "0  The very first talking picture has returned fr...          1\n",
       "1  Much to your presumable happiness fair readers...          1\n",
       "2  There are no people like \"Show People\" Marion ...          1\n",
       "3  OK, this movie starts out like a cheesy Lifeti...          1\n",
       "4  Pretty visuals and a lot of fights make not a ...          0"
      ]
     },
     "execution_count": 3,
     "metadata": {},
     "output_type": "execute_result"
    }
   ],
   "source": [
    "filename = \"data/imbd_dataset.tar.gz\"\n",
    "def load_data(directory, sentiment):\n",
    "    \"\"\"\n",
    "    Reads the raw training and testing data from the downloaded dataset.\n",
    "    \"\"\"\n",
    "    with tarfile.open(filename, mode=\"r:gz\") as tar:\n",
    "        reviews = []\n",
    "        for member in tar.getmembers():\n",
    "            f = tar.extractfile(member)\n",
    "            if member.name.startswith(directory): \n",
    "                if f is not None:\n",
    "                    reviews.append(f.read().decode())\n",
    "    return pd.DataFrame({'review': reviews,'sentiment': sentiment})\n",
    "\n",
    "# Load training data \n",
    "pos_train_df = load_data(\"aclImdb/train/pos\", 1)\n",
    "neg_train_df = load_data( \"aclImdb/train/neg\", 0)\n",
    "    \n",
    "# Load testing data\n",
    "pos_test_df = load_data(\"aclImdb/test/pos\", 1)\n",
    "neg_test_df = load_data(\"aclImdb/test/neg\", 0)\n",
    "    \n",
    "# Merge the negative and positive train datasets and shuffle the resultant records\n",
    "train_df = pd.concat([pos_train_df, neg_train_df,pos_test_df,neg_test_df], ignore_index=True)\n",
    "train_df = train_df.sample(frac=1, random_state=42).reset_index(drop=True)\n",
    "\n",
    "train_df.head()"
   ]
  },
  {
   "cell_type": "markdown",
   "metadata": {},
   "source": [
    "## Data Pre-procesiing"
   ]
  },
  {
   "cell_type": "code",
   "execution_count": null,
   "metadata": {},
   "outputs": [
    {
     "name": "stdout",
     "output_type": "stream",
     "text": [
      "number of samples:50000\n",
      "number of unique reviews: 49582\n",
      "percentage of duplicates: 0.836%\n"
     ]
    },
    {
     "data": {
      "text/html": [
       "<div>\n",
       "<style scoped>\n",
       "    .dataframe tbody tr th:only-of-type {\n",
       "        vertical-align: middle;\n",
       "    }\n",
       "\n",
       "    .dataframe tbody tr th {\n",
       "        vertical-align: top;\n",
       "    }\n",
       "\n",
       "    .dataframe thead th {\n",
       "        text-align: right;\n",
       "    }\n",
       "</style>\n",
       "<table border=\"1\" class=\"dataframe\">\n",
       "  <thead>\n",
       "    <tr style=\"text-align: right;\">\n",
       "      <th></th>\n",
       "      <th>review</th>\n",
       "      <th>sentiment</th>\n",
       "    </tr>\n",
       "  </thead>\n",
       "  <tbody>\n",
       "    <tr>\n",
       "      <th>32513</th>\n",
       "      <td>\"Go Fish\" garnered Rose Troche rightly or wron...</td>\n",
       "      <td>0</td>\n",
       "    </tr>\n",
       "    <tr>\n",
       "      <th>23057</th>\n",
       "      <td>\"Go Fish\" garnered Rose Troche rightly or wron...</td>\n",
       "      <td>0</td>\n",
       "    </tr>\n",
       "    <tr>\n",
       "      <th>28198</th>\n",
       "      <td>\"Three\" is a seriously dumb shipwreck movie. M...</td>\n",
       "      <td>0</td>\n",
       "    </tr>\n",
       "    <tr>\n",
       "      <th>4384</th>\n",
       "      <td>\"Three\" is a seriously dumb shipwreck movie. M...</td>\n",
       "      <td>0</td>\n",
       "    </tr>\n",
       "    <tr>\n",
       "      <th>10677</th>\n",
       "      <td>\"Witchery\" might just be the most incoherent a...</td>\n",
       "      <td>0</td>\n",
       "    </tr>\n",
       "    <tr>\n",
       "      <th>...</th>\n",
       "      <td>...</td>\n",
       "      <td>...</td>\n",
       "    </tr>\n",
       "    <tr>\n",
       "      <th>24625</th>\n",
       "      <td>this movie sucks. did anyone notice that the e...</td>\n",
       "      <td>0</td>\n",
       "    </tr>\n",
       "    <tr>\n",
       "      <th>4172</th>\n",
       "      <td>well, the writing was very sloppy, the directi...</td>\n",
       "      <td>0</td>\n",
       "    </tr>\n",
       "    <tr>\n",
       "      <th>16200</th>\n",
       "      <td>well, the writing was very sloppy, the directi...</td>\n",
       "      <td>0</td>\n",
       "    </tr>\n",
       "    <tr>\n",
       "      <th>21510</th>\n",
       "      <td>when I first heard about this movie, I noticed...</td>\n",
       "      <td>1</td>\n",
       "    </tr>\n",
       "    <tr>\n",
       "      <th>47281</th>\n",
       "      <td>when I first heard about this movie, I noticed...</td>\n",
       "      <td>1</td>\n",
       "    </tr>\n",
       "  </tbody>\n",
       "</table>\n",
       "<p>824 rows × 2 columns</p>\n",
       "</div>"
      ],
      "text/plain": [
       "                                                  review  sentiment\n",
       "32513  \"Go Fish\" garnered Rose Troche rightly or wron...          0\n",
       "23057  \"Go Fish\" garnered Rose Troche rightly or wron...          0\n",
       "28198  \"Three\" is a seriously dumb shipwreck movie. M...          0\n",
       "4384   \"Three\" is a seriously dumb shipwreck movie. M...          0\n",
       "10677  \"Witchery\" might just be the most incoherent a...          0\n",
       "...                                                  ...        ...\n",
       "24625  this movie sucks. did anyone notice that the e...          0\n",
       "4172   well, the writing was very sloppy, the directi...          0\n",
       "16200  well, the writing was very sloppy, the directi...          0\n",
       "21510  when I first heard about this movie, I noticed...          1\n",
       "47281  when I first heard about this movie, I noticed...          1\n",
       "\n",
       "[824 rows x 2 columns]"
      ]
     },
     "execution_count": 27,
     "metadata": {},
     "output_type": "execute_result"
    }
   ],
   "source": [
    "# Check if there are duplicated reviews\n",
    "print(f'number of samples:{len(train_df.review)}')\n",
    "print(f'number of unique reviews: {train_df.review.nunique()}')\n",
    "print(f'percentage of duplicates: {(len(train_df.review) - train_df.review.nunique()) / len(train_df.review)*100}%')\n",
    "train_df[train_df.duplicated(['review'], keep=False)].sort_values(by='review')"
   ]
  },
  {
   "cell_type": "code",
   "execution_count": 4,
   "metadata": {},
   "outputs": [],
   "source": [
    "# Remove duplicates\n",
    "train_df = train_df.drop_duplicates(keep=\"first\")\n",
    "train_df.index = range(len(train_df.index))"
   ]
  },
  {
   "cell_type": "code",
   "execution_count": null,
   "metadata": {},
   "outputs": [
    {
     "name": "stdout",
     "output_type": "stream",
     "text": [
      "Never mind the serious logic gaps, never mind the achingly cliche character portrayals, never mind the haphazard writing, and you might like this movie. The main character Alyssa was supposed to be endearing, the heroine who you root for to be saved,(or in this case, save herself) But instead she merely grates, and makes one wonder, are all pro ballerinas really that stupid? Her busybody mother was obviously only necessary to further propagate the illusion that ballet companies are evil monsters ready to snatch your poor, innocent, young girl from your grasp, with an ever present, biting artistic director/villain. And the cliche's! Not only does she become anorexic, bulemic, an over the counter junkie, and a pathological liar, but all in the course of a few months. It's like the writer read every horror story he could dig up about ballet and decided to see how much he could cram into two hours, (with commercials).<br /><br />Believe it or not, but I am a dancer. This \"uprising\" or \"resurgence\" of anorexia and bulemia that is happening is nonexistent at all of the dance schools I have attended. In fact, the teachers are so scared to even suggest that a girl might stand a better chance a few pounds lighter, most of the dancers in my classes would be actually considered minorly overweight. I'm not saying eating disorders never occur, but not to the extent as it was portrayed in the movie.<br /><br />Another annoying problem this movie had was the means-to-an-end writing style. Her on again off again boyfriend probably had all of half an hour total screen time, all in the first half. The other supporting characters were merely props, decorations to further the story. Given the right dialogue, this would have been a very intricate mind study of a psycological problem. As it is, it turns into a one woman show, and Kimberly McCullough doesn't have the chutzpah to pull it off.<br /><br />To a non dancer, this movie would be a supposed \"insight\" into what really goes one behind closed doors at a ballet company. To a dancer, this is a very insulting movie, which portrays ballerinas as stupid and parents as pushy and ill informed. Those adjectives more correctly describe the people who got this on the air in the first place. 3/10\n"
     ]
    }
   ],
   "source": [
    "example=train_df['review'][87]\n",
    "print(example)"
   ]
  },
  {
   "cell_type": "code",
   "execution_count": 5,
   "metadata": {},
   "outputs": [],
   "source": [
    "stop_words = set(stopwords.words('english'))\n",
    "not_remove = set(['no', 'not', 'nor']) \n",
    "stop_words = stop_words - not_remove\n",
    "\n",
    "# Clean the data\n",
    "def convert_emoticons(text):\n",
    "    \"\"\"Converts emoticons to text.\"\"\"\n",
    "    for emot in EMOTICONS_EMO:\n",
    "        text =text.replace(emot, EMOTICONS_EMO[emot].replace(\" \",\"_\"))\n",
    "    return text\n",
    "\n",
    "def convert_emojis(text):\n",
    "    \"\"\"Converts emojisto text.\"\"\"\n",
    "    for emot in UNICODE_EMOJI:\n",
    "        text = text.replace(emot, \" \".join(UNICODE_EMOJI[emot].replace(\",\",\"\").replace(\":\",\"\").split()))\n",
    "    return text\n",
    "\n",
    "def decontrac(text):\n",
    "    \"\"\"Converts contraction to its expanded version.\"\"\"\n",
    "    text = re.sub(r\"won\\'t\", \"will not\", text)\n",
    "    text = re.sub(r\"can\\'t\", \"can not\", text)\n",
    "    text = re.sub(r\"n\\'t\", \" not\", text)\n",
    "    text = re.sub(r\"\\'t\", \" not\", text)\n",
    "    return text\n",
    "\n",
    "def clean_text(text):\n",
    "    \"\"\"\n",
    "    Performs fundamental actions to clean the text, including transforming all the text to lowercase, \n",
    "    eliminating characters that do not qualify as words or whitespace, as well as removing any numerical digits present.\n",
    "\n",
    "    Args:\n",
    "        text (str): raw string.\n",
    "\n",
    "    Returns:\n",
    "        text (str): cleaned string.\n",
    "    \"\"\"  \n",
    "    text = re.sub(re.compile('<.*?>'), '', text) # Remove HTML tags\n",
    "    url_pattern = re.compile(r'https?://\\S+|www\\.\\S+') # Remove URLs\n",
    "    text = url_pattern.sub('', text)\n",
    "    text = decontrac(text) # Expand contractions\n",
    "    text  = re.sub(\"\\\\s*\\\\b(?=\\\\w*(\\\\w)\\\\1{2,})\\\\w*\\\\b\",' ',text)\n",
    "    text = convert_emojis(text) # Convert emojis to text\n",
    "    text = convert_emoticons(text) # Convert emoticons to text\n",
    "    text = text.lower() # Lowercase \n",
    "    text = re.sub('[^a-zA-Z]', ' ', text) # Remove punctuations and numbers   \n",
    "    text = re.sub(r'\\s+', ' ', text) # Remove multiple spaces  \n",
    "    text = re.sub(r\"\\s+[a-zA-Z]\\s+\", ' ', text) # Remove single characters\n",
    "    pattern = re.compile(r'\\b(' + r'|'.join(stop_words) + r')\\b\\s*') # Remove stopwords\n",
    "    text = pattern.sub('', text)   \n",
    "    text = unidecode(text) # Remove accents\n",
    "    return text"
   ]
  },
  {
   "cell_type": "code",
   "execution_count": null,
   "metadata": {},
   "outputs": [
    {
     "name": "stdout",
     "output_type": "stream",
     "text": [
      "never mind serious logic gaps never mind achingly cliche character portrayals never mind haphazard writing might like movie main character alyssa supposed endearing heroine root saved case save instead merely grates makes one wonder pro ballerinas really stupid busybody mother obviously necessary propagate illusion ballet companies evil monsters ready snatch poor innocent young girl grasp ever present biting artistic director villain cliche not become anorexic bulemic counter junkie pathological liar course months like writer read every horror story could dig ballet decided see much could cram two hours commercials believe not dancer uprising resurgence anorexia bulemia happening nonexistent dance schools attended fact teachers scared even suggest girl might stand better chance pounds lighter dancers classes would actually considered minorly overweight not saying eating disorders never occur not extent portrayed movie another annoying problem movie means end writing style boyfriend probably half hour total screen time first half supporting characters merely props decorations story given right dialogue would intricate mind study psycological problem turns one woman show kimberly mccullough not chutzpah pull non dancer movie would supposed insight really goes one behind closed doors ballet company dancer insulting movie portrays ballerinas stupid parents pushy ill informed adjectives correctly describe people got air first place \n"
     ]
    }
   ],
   "source": [
    "example=clean_text(example)\n",
    "print(example)"
   ]
  },
  {
   "cell_type": "code",
   "execution_count": 6,
   "metadata": {},
   "outputs": [],
   "source": [
    "sno = SnowballStemmer(language='english')\n",
    "\n",
    "def tokenizer_stemmer(text):\n",
    "    return [sno.stem(word) for word in text.split()]"
   ]
  },
  {
   "cell_type": "code",
   "execution_count": null,
   "metadata": {},
   "outputs": [
    {
     "name": "stdout",
     "output_type": "stream",
     "text": [
      "['never', 'mind', 'serious', 'logic', 'gap', 'never', 'mind', 'ach', 'clich', 'charact', 'portray', 'never', 'mind', 'haphazard', 'write', 'might', 'like', 'movi', 'main', 'charact', 'alyssa', 'suppos', 'endear', 'heroin', 'root', 'save', 'case', 'save', 'instead', 'mere', 'grate', 'make', 'one', 'wonder', 'pro', 'ballerina', 'realli', 'stupid', 'busybodi', 'mother', 'obvious', 'necessari', 'propag', 'illus', 'ballet', 'compani', 'evil', 'monster', 'readi', 'snatch', 'poor', 'innoc', 'young', 'girl', 'grasp', 'ever', 'present', 'bite', 'artist', 'director', 'villain', 'clich', 'not', 'becom', 'anorex', 'bulem', 'counter', 'junki', 'patholog', 'liar', 'cours', 'month', 'like', 'writer', 'read', 'everi', 'horror', 'stori', 'could', 'dig', 'ballet', 'decid', 'see', 'much', 'could', 'cram', 'two', 'hour', 'commerci', 'believ', 'not', 'dancer', 'upris', 'resurg', 'anorexia', 'bulemia', 'happen', 'nonexist', 'danc', 'school', 'attend', 'fact', 'teacher', 'scare', 'even', 'suggest', 'girl', 'might', 'stand', 'better', 'chanc', 'pound', 'lighter', 'dancer', 'class', 'would', 'actual', 'consid', 'minor', 'overweight', 'not', 'say', 'eat', 'disord', 'never', 'occur', 'not', 'extent', 'portray', 'movi', 'anoth', 'annoy', 'problem', 'movi', 'mean', 'end', 'write', 'style', 'boyfriend', 'probabl', 'half', 'hour', 'total', 'screen', 'time', 'first', 'half', 'support', 'charact', 'mere', 'prop', 'decor', 'stori', 'given', 'right', 'dialogu', 'would', 'intric', 'mind', 'studi', 'psycolog', 'problem', 'turn', 'one', 'woman', 'show', 'kimber', 'mccullough', 'not', 'chutzpah', 'pull', 'non', 'dancer', 'movi', 'would', 'suppos', 'insight', 'realli', 'goe', 'one', 'behind', 'close', 'door', 'ballet', 'compani', 'dancer', 'insult', 'movi', 'portray', 'ballerina', 'stupid', 'parent', 'pushi', 'ill', 'inform', 'adject', 'correct', 'describ', 'peopl', 'got', 'air', 'first', 'place']\n"
     ]
    }
   ],
   "source": [
    "example=tokenizer_stemmer(example)\n",
    "print(example)"
   ]
  },
  {
   "cell_type": "code",
   "execution_count": null,
   "metadata": {},
   "outputs": [],
   "source": [
    "# Initialize vectorizer\n",
    "vectorizer = TfidfVectorizer(\n",
    "                     lowercase=False,   # Already taken care of by tokenizer_stemmer function\n",
    "                     preprocessor=clean_text, \n",
    "                     tokenizer=tokenizer_stemmer,\n",
    "                     ngram_range=(1,2)\n",
    "                     )"
   ]
  },
  {
   "cell_type": "code",
   "execution_count": 7,
   "metadata": {},
   "outputs": [],
   "source": [
    "# Split the dataset\n",
    "X_train, X_test, y_train, y_test = train_test_split(\n",
    "    train_df['review'], \n",
    "    train_df['sentiment'], \n",
    "    test_size=0.20, \n",
    "    random_state=RANDOM_SEED,\n",
    ")"
   ]
  },
  {
   "cell_type": "code",
   "execution_count": null,
   "metadata": {},
   "outputs": [
    {
     "name": "stderr",
     "output_type": "stream",
     "text": [
      "C:\\Users\\пк\\AppData\\Local\\Packages\\PythonSoftwareFoundation.Python.3.11_qbz5n2kfra8p0\\LocalCache\\local-packages\\Python311\\site-packages\\sklearn\\feature_extraction\\text.py:521: UserWarning: The parameter 'token_pattern' will not be used since 'tokenizer' is not None'\n",
      "  warnings.warn(\n"
     ]
    }
   ],
   "source": [
    "# Vectorize the dataset\n",
    "X_train_vec = vectorizer.fit_transform(X_train)\n",
    "X_test_vec = vectorizer.transform(X_test)"
   ]
  },
  {
   "cell_type": "code",
   "execution_count": null,
   "metadata": {},
   "outputs": [
    {
     "data": {
      "text/plain": [
       "(39665, 2212562)"
      ]
     },
     "execution_count": 14,
     "metadata": {},
     "output_type": "execute_result"
    }
   ],
   "source": [
    "X_train_vec.shape"
   ]
  },
  {
   "cell_type": "code",
   "execution_count": null,
   "metadata": {},
   "outputs": [
    {
     "data": {
      "text/plain": [
       "Text(0.5, 0, '$\\\\chi^2$')"
      ]
     },
     "execution_count": 47,
     "metadata": {},
     "output_type": "execute_result"
    },
    {
     "data": {
      "image/png": "[encoded data removed]",
      "text/plain": [
       "<Figure size 1500x1000 with 1 Axes>"
      ]
     },
     "metadata": {},
     "output_type": "display_data"
    }
   ],
   "source": [
    "chi2score = chi2(X_train_vec, y_train)[0]\n",
    "\n",
    "plt.figure(figsize=(15,10))\n",
    "wscores = list(zip(vectorizer.get_feature_names_out(), chi2score))\n",
    "wchi2 = sorted(wscores, key=lambda x:x[1])\n",
    "topchi2 = list(zip(*wchi2[-20:]))\n",
    "x = range(len(topchi2[1]))\n",
    "labels = topchi2[0]\n",
    "plt.barh(x,topchi2[1], align='center', alpha=0.2)\n",
    "plt.plot(topchi2[1], x, '-o', markersize=5, alpha=0.8)\n",
    "plt.yticks(x, labels)\n",
    "plt.xlabel('$\\chi^2$')"
   ]
  },
  {
   "cell_type": "markdown",
   "metadata": {},
   "source": [
    "## Training"
   ]
  },
  {
   "cell_type": "code",
   "execution_count": 8,
   "metadata": {},
   "outputs": [],
   "source": [
    "def report(results, n_top=3):\n",
    "    \"\"\"Prints classification metrics during the grid search with cross-validation\"\"\"\n",
    "    for i in range(1, n_top + 1):\n",
    "        candidates = np.flatnonzero(results['rank_test_score'] == i)\n",
    "        for candidate in candidates:\n",
    "            print(\"Model with rank: {0}\".format(i))\n",
    "            print(\"Mean validation score: {0:.3f} (std: {1:.3f})\".format(\n",
    "                  results['mean_test_score'][candidate],\n",
    "                  results['std_test_score'][candidate]))\n",
    "            print(\"Parameters: {0}\".format(results['params'][candidate]))\n",
    "            print(\"\")"
   ]
  },
  {
   "cell_type": "code",
   "execution_count": 9,
   "metadata": {},
   "outputs": [],
   "source": [
    "def clf_metrics(y_pred, y_prob):\n",
    "    \"\"\"\n",
    "    Prints classification metrics such as confusion matrics, precision, recall, accuracy, f1-score, roc-curve.\n",
    "\n",
    "    Args:\n",
    "        y_pred (ndarray): predictions of a model\n",
    "        y_prob (ndarray):  predicted probabilities\n",
    "    \"\"\"\n",
    "    # Accuracy\n",
    "    acc = accuracy_score(y_test, y_pred)\n",
    "    print(\"Accuracy: {:.2f}\".format(acc*100),end='\\n\\n')\n",
    "\n",
    "    # Confusion matrix\n",
    "    cm = confusion_matrix(y_test,y_pred)\n",
    "    print('Confusion Matrix:\\n', cm)\n",
    "\n",
    "    # Classification report\n",
    "    print(classification_report(y_test,y_pred,digits=4))\n",
    "    \n",
    "    # ROC Curve\n",
    "    fpr, tpr, thresholds = roc_curve(y_test, y_prob)\n",
    "    roc_auc = auc(fpr, tpr)\n",
    "    print (\"Area under the ROC curve : %f\" % roc_auc)\n",
    "    plt.plot([0, 1], [0, 1], color='navy', linestyle='--')\n",
    "    plt.xlabel('False Positive Rate')\n",
    "    plt.ylabel('True Positive Rate')\n",
    "    plt.title('Receiver operating characteristic')\n",
    "    plt.plot(fpr, tpr, color='red', label='ROC curve (area = %0.2f)' % roc_auc)\n",
    "    plt.legend(loc='lower right')"
   ]
  },
  {
   "cell_type": "markdown",
   "metadata": {},
   "source": [
    "### Logistic Regression"
   ]
  },
  {
   "cell_type": "code",
   "execution_count": null,
   "metadata": {},
   "outputs": [
    {
     "name": "stderr",
     "output_type": "stream",
     "text": [
      "C:\\Users\\пк\\AppData\\Local\\Packages\\PythonSoftwareFoundation.Python.3.11_qbz5n2kfra8p0\\LocalCache\\local-packages\\Python311\\site-packages\\sklearn\\feature_extraction\\text.py:521: UserWarning: The parameter 'token_pattern' will not be used since 'tokenizer' is not None'\n",
      "  warnings.warn(\n"
     ]
    },
    {
     "name": "stdout",
     "output_type": "stream",
     "text": [
      "Accuracy: 89.01\n",
      "\n",
      "Confusion Matrix:\n",
      " [[4353  604]\n",
      " [ 486 4474]]\n",
      "              precision    recall  f1-score   support\n",
      "\n",
      "           0     0.8996    0.8782    0.8887      4957\n",
      "           1     0.8811    0.9020    0.8914      4960\n",
      "\n",
      "    accuracy                         0.8901      9917\n",
      "   macro avg     0.8903    0.8901    0.8901      9917\n",
      "weighted avg     0.8903    0.8901    0.8901      9917\n",
      "\n",
      "Area under the ROC curve : 0.956891\n",
      "None\n"
     ]
    },
    {
     "data": {
      "image/png": "[encoded data removed]",
      "text/plain": [
       "<Figure size 640x480 with 1 Axes>"
      ]
     },
     "metadata": {},
     "output_type": "display_data"
    }
   ],
   "source": [
    "lr_pipeline = Pipeline(steps=[\n",
    "    ('tfidf', TfidfVectorizer()),\n",
    "    ('lrg', LogisticRegression(random_state=RANDOM_SEED))\n",
    "])\n",
    "\n",
    "lr_pipeline.fit(X_train, y_train)\n",
    "y_pred = lr_pipeline.predict(X_test)\n",
    "y_prob = lr_pipeline.predict_proba(X_test)[:, 1]\n",
    "print(clf_metrics(y_pred, y_prob))"
   ]
  },
  {
   "cell_type": "markdown",
   "metadata": {},
   "source": [
    "Applying Grid Search Hyperparameter Tuning & 2-Fold Cross Validation to find the best parameters."
   ]
  },
  {
   "cell_type": "code",
   "execution_count": null,
   "metadata": {},
   "outputs": [
    {
     "name": "stdout",
     "output_type": "stream",
     "text": [
      "Fitting 2 folds for each of 18 candidates, totalling 36 fits\n"
     ]
    },
    {
     "name": "stderr",
     "output_type": "stream",
     "text": [
      "C:\\Users\\пк\\AppData\\Local\\Packages\\PythonSoftwareFoundation.Python.3.11_qbz5n2kfra8p0\\LocalCache\\local-packages\\Python311\\site-packages\\sklearn\\feature_extraction\\text.py:521: UserWarning: The parameter 'token_pattern' will not be used since 'tokenizer' is not None'\n",
      "  warnings.warn(\n"
     ]
    },
    {
     "name": "stdout",
     "output_type": "stream",
     "text": [
      "Model with rank: 1\n",
      "Mean validation score: 0.898 (std: 0.000)\n",
      "Parameters: {'lrg__C': 10, 'selector__percentile': 25, 'tfidf__ngram_range': (1, 2)}\n",
      "\n",
      "Model with rank: 2\n",
      "Mean validation score: 0.898 (std: 0.001)\n",
      "Parameters: {'lrg__C': 10, 'selector__percentile': 75, 'tfidf__ngram_range': (1, 2)}\n",
      "\n",
      "Model with rank: 3\n",
      "Mean validation score: 0.897 (std: 0.000)\n",
      "Parameters: {'lrg__C': 10, 'selector__percentile': 50, 'tfidf__ngram_range': (1, 2)}\n",
      "\n",
      "Model with rank: 4\n",
      "Mean validation score: 0.897 (std: 0.000)\n",
      "Parameters: {'lrg__C': 5, 'selector__percentile': 25, 'tfidf__ngram_range': (1, 2)}\n",
      "\n",
      "Model with rank: 5\n",
      "Mean validation score: 0.896 (std: 0.000)\n",
      "Parameters: {'lrg__C': 5, 'selector__percentile': 75, 'tfidf__ngram_range': (1, 2)}\n",
      "\n",
      "Model with rank: 6\n",
      "Mean validation score: 0.895 (std: 0.000)\n",
      "Parameters: {'lrg__C': 5, 'selector__percentile': 50, 'tfidf__ngram_range': (1, 2)}\n",
      "\n",
      "Model with rank: 7\n",
      "Mean validation score: 0.889 (std: 0.001)\n",
      "Parameters: {'lrg__C': 5, 'selector__percentile': 50, 'tfidf__ngram_range': (1, 1)}\n",
      "\n",
      "Model with rank: 8\n",
      "Mean validation score: 0.889 (std: 0.001)\n",
      "Parameters: {'lrg__C': 5, 'selector__percentile': 75, 'tfidf__ngram_range': (1, 1)}\n",
      "\n",
      "Model with rank: 9\n",
      "Mean validation score: 0.888 (std: 0.001)\n",
      "Parameters: {'lrg__C': 5, 'selector__percentile': 25, 'tfidf__ngram_range': (1, 1)}\n",
      "\n",
      "Model with rank: 10\n",
      "Mean validation score: 0.887 (std: 0.001)\n",
      "Parameters: {'lrg__C': 10, 'selector__percentile': 75, 'tfidf__ngram_range': (1, 1)}\n",
      "\n",
      "Model with rank: 11\n",
      "Mean validation score: 0.887 (std: 0.001)\n",
      "Parameters: {'lrg__C': 10, 'selector__percentile': 50, 'tfidf__ngram_range': (1, 1)}\n",
      "\n",
      "Model with rank: 12\n",
      "Mean validation score: 0.887 (std: 0.001)\n",
      "Parameters: {'lrg__C': 10, 'selector__percentile': 25, 'tfidf__ngram_range': (1, 1)}\n",
      "\n",
      "Model with rank: 13\n",
      "Mean validation score: 0.885 (std: 0.001)\n",
      "Parameters: {'lrg__C': 1, 'selector__percentile': 75, 'tfidf__ngram_range': (1, 1)}\n",
      "\n",
      "Model with rank: 14\n",
      "Mean validation score: 0.884 (std: 0.000)\n",
      "Parameters: {'lrg__C': 1, 'selector__percentile': 50, 'tfidf__ngram_range': (1, 1)}\n",
      "\n",
      "Model with rank: 15\n",
      "Mean validation score: 0.884 (std: 0.001)\n",
      "Parameters: {'lrg__C': 1, 'selector__percentile': 75, 'tfidf__ngram_range': (1, 2)}\n",
      "\n",
      "Model with rank: 16\n",
      "Mean validation score: 0.884 (std: 0.000)\n",
      "Parameters: {'lrg__C': 1, 'selector__percentile': 25, 'tfidf__ngram_range': (1, 2)}\n",
      "\n",
      "Model with rank: 17\n",
      "Mean validation score: 0.883 (std: 0.001)\n",
      "Parameters: {'lrg__C': 1, 'selector__percentile': 50, 'tfidf__ngram_range': (1, 2)}\n",
      "\n",
      "Model with rank: 18\n",
      "Mean validation score: 0.883 (std: 0.000)\n",
      "Parameters: {'lrg__C': 1, 'selector__percentile': 25, 'tfidf__ngram_range': (1, 1)}\n",
      "\n"
     ]
    }
   ],
   "source": [
    "lr_pipeline = Pipeline(steps=[\n",
    "    ('tfidf', TfidfVectorizer(tokenizer=tokenizer_stemmer,preprocessor=clean_text,lowercase=False)),\n",
    "    ('selector',SelectPercentile(score_func=chi2)),\n",
    "    ('lrg', LogisticRegression(random_state=RANDOM_SEED))\n",
    "])\n",
    "\n",
    "lr_grid_search = GridSearchCV(lr_pipeline, {\n",
    "    'tfidf__ngram_range': [(1, 2), (1, 1)], \n",
    "    'selector__percentile':[25,50,75],\n",
    "    'lrg__C': [ 1, 5,10]\n",
    "}, cv=2, verbose=10, n_jobs=-1)\n",
    "\n",
    "lr_grid_search.fit(X_train, y_train)\n",
    "report(lr_grid_search.cv_results_, n_top=20)"
   ]
  },
  {
   "cell_type": "code",
   "execution_count": null,
   "metadata": {},
   "outputs": [
    {
     "name": "stderr",
     "output_type": "stream",
     "text": [
      "C:\\Users\\пк\\AppData\\Local\\Packages\\PythonSoftwareFoundation.Python.3.11_qbz5n2kfra8p0\\LocalCache\\local-packages\\Python311\\site-packages\\sklearn\\feature_extraction\\text.py:521: UserWarning: The parameter 'token_pattern' will not be used since 'tokenizer' is not None'\n",
      "  warnings.warn(\n"
     ]
    },
    {
     "name": "stdout",
     "output_type": "stream",
     "text": [
      "Accuracy: 90.92\n",
      "\n",
      "Confusion Matrix:\n",
      " [[4455  502]\n",
      " [ 398 4562]]\n",
      "              precision    recall  f1-score   support\n",
      "\n",
      "           0     0.9180    0.8987    0.9083      4957\n",
      "           1     0.9009    0.9198    0.9102      4960\n",
      "\n",
      "    accuracy                         0.9092      9917\n",
      "   macro avg     0.9094    0.9092    0.9092      9917\n",
      "weighted avg     0.9094    0.9092    0.9092      9917\n",
      "\n",
      "Area under the ROC curve : 0.966519\n",
      "None\n"
     ]
    },
    {
     "data": {
      "image/png": "[encoded data removed]",
      "text/plain": [
       "<Figure size 640x480 with 1 Axes>"
      ]
     },
     "metadata": {},
     "output_type": "display_data"
    }
   ],
   "source": [
    "lr_pipeline = Pipeline(steps=[\n",
    "    ('tfidf', TfidfVectorizer(tokenizer=tokenizer_stemmer,preprocessor=clean_text,lowercase=False, ngram_range=(1,2))),\n",
    "    ('selector',SelectPercentile(score_func=chi2, percentile=25)),\n",
    "    ('lrg', LogisticRegression(random_state=RANDOM_SEED, C=10))\n",
    "])\n",
    "\n",
    "lr_pipeline.fit(X_train, y_train)\n",
    "y_pred = lr_pipeline.predict(X_test)\n",
    "y_prob = lr_pipeline.predict_proba(X_test)[:, 1]\n",
    "print(clf_metrics(y_pred, y_prob))"
   ]
  },
  {
   "cell_type": "markdown",
   "metadata": {},
   "source": [
    "The results of the optimized model outperform the initial model with an accuracy score of 90.92 compared to 89.01 prior"
   ]
  },
  {
   "cell_type": "markdown",
   "metadata": {},
   "source": [
    "### Multinomial Naive Bayes"
   ]
  },
  {
   "cell_type": "code",
   "execution_count": null,
   "metadata": {},
   "outputs": [
    {
     "name": "stderr",
     "output_type": "stream",
     "text": [
      "C:\\Users\\пк\\AppData\\Local\\Packages\\PythonSoftwareFoundation.Python.3.11_qbz5n2kfra8p0\\LocalCache\\local-packages\\Python311\\site-packages\\sklearn\\feature_extraction\\text.py:521: UserWarning: The parameter 'token_pattern' will not be used since 'tokenizer' is not None'\n",
      "  warnings.warn(\n"
     ]
    },
    {
     "name": "stdout",
     "output_type": "stream",
     "text": [
      "Accuracy: 85.53\n",
      "\n",
      "Confusion Matrix:\n",
      " [[4241  716]\n",
      " [ 719 4241]]\n",
      "              precision    recall  f1-score   support\n",
      "\n",
      "           0     0.8550    0.8556    0.8553      4957\n",
      "           1     0.8556    0.8550    0.8553      4960\n",
      "\n",
      "    accuracy                         0.8553      9917\n",
      "   macro avg     0.8553    0.8553    0.8553      9917\n",
      "weighted avg     0.8553    0.8553    0.8553      9917\n",
      "\n",
      "Area under the ROC curve : 0.929289\n",
      "None\n"
     ]
    },
    {
     "data": {
      "image/png": "[encoded data removed]",
      "text/plain": [
       "<Figure size 640x480 with 1 Axes>"
      ]
     },
     "metadata": {},
     "output_type": "display_data"
    }
   ],
   "source": [
    "nb_pipeline = Pipeline([\n",
    "    ('tfidf', TfidfVectorizer()),\n",
    "    ('nb', MultinomialNB())\n",
    "])\n",
    "\n",
    "nb_pipeline.fit(X_train, y_train)\n",
    "y_pred = nb_pipeline.predict(X_test)\n",
    "y_prob = nb_pipeline.predict_proba(X_test)[:, 1]\n",
    "print(clf_metrics(y_pred, y_prob))"
   ]
  },
  {
   "cell_type": "markdown",
   "metadata": {},
   "source": [
    "Applying Grid Search Hyperparameter Tuning & 2-Fold Cross Validation to find the best parameters."
   ]
  },
  {
   "cell_type": "code",
   "execution_count": null,
   "metadata": {},
   "outputs": [
    {
     "name": "stdout",
     "output_type": "stream",
     "text": [
      "Fitting 2 folds for each of 18 candidates, totalling 36 fits\n"
     ]
    },
    {
     "name": "stderr",
     "output_type": "stream",
     "text": [
      "C:\\Users\\пк\\AppData\\Local\\Packages\\PythonSoftwareFoundation.Python.3.11_qbz5n2kfra8p0\\LocalCache\\local-packages\\Python311\\site-packages\\sklearn\\feature_extraction\\text.py:521: UserWarning: The parameter 'token_pattern' will not be used since 'tokenizer' is not None'\n",
      "  warnings.warn(\n"
     ]
    },
    {
     "name": "stdout",
     "output_type": "stream",
     "text": [
      "Model with rank: 1\n",
      "Mean validation score: 0.884 (std: 0.002)\n",
      "Parameters: {'nb__alpha': 0.5, 'selector__percentile': 50, 'tfidf__ngram_range': (1, 2)}\n",
      "\n",
      "Model with rank: 2\n",
      "Mean validation score: 0.884 (std: 0.002)\n",
      "Parameters: {'nb__alpha': 0.5, 'selector__percentile': 75, 'tfidf__ngram_range': (1, 2)}\n",
      "\n",
      "Model with rank: 3\n",
      "Mean validation score: 0.883 (std: 0.002)\n",
      "Parameters: {'nb__alpha': 0.5, 'selector__percentile': 25, 'tfidf__ngram_range': (1, 2)}\n",
      "\n",
      "Model with rank: 4\n",
      "Mean validation score: 0.882 (std: 0.002)\n",
      "Parameters: {'nb__alpha': 1, 'selector__percentile': 50, 'tfidf__ngram_range': (1, 2)}\n",
      "\n",
      "Model with rank: 5\n",
      "Mean validation score: 0.881 (std: 0.002)\n",
      "Parameters: {'nb__alpha': 1, 'selector__percentile': 25, 'tfidf__ngram_range': (1, 2)}\n",
      "\n",
      "Model with rank: 6\n",
      "Mean validation score: 0.881 (std: 0.002)\n",
      "Parameters: {'nb__alpha': 1, 'selector__percentile': 75, 'tfidf__ngram_range': (1, 2)}\n",
      "\n",
      "Model with rank: 7\n",
      "Mean validation score: 0.868 (std: 0.000)\n",
      "Parameters: {'nb__alpha': 10, 'selector__percentile': 75, 'tfidf__ngram_range': (1, 2)}\n",
      "\n",
      "Model with rank: 8\n",
      "Mean validation score: 0.868 (std: 0.000)\n",
      "Parameters: {'nb__alpha': 10, 'selector__percentile': 25, 'tfidf__ngram_range': (1, 2)}\n",
      "\n",
      "Model with rank: 9\n",
      "Mean validation score: 0.867 (std: 0.000)\n",
      "Parameters: {'nb__alpha': 10, 'selector__percentile': 50, 'tfidf__ngram_range': (1, 2)}\n",
      "\n",
      "Model with rank: 10\n",
      "Mean validation score: 0.857 (std: 0.001)\n",
      "Parameters: {'nb__alpha': 1, 'selector__percentile': 25, 'tfidf__ngram_range': (1, 1)}\n",
      "\n",
      "Model with rank: 11\n",
      "Mean validation score: 0.856 (std: 0.002)\n",
      "Parameters: {'nb__alpha': 1, 'selector__percentile': 75, 'tfidf__ngram_range': (1, 1)}\n",
      "\n",
      "Model with rank: 12\n",
      "Mean validation score: 0.856 (std: 0.002)\n",
      "Parameters: {'nb__alpha': 1, 'selector__percentile': 50, 'tfidf__ngram_range': (1, 1)}\n",
      "\n",
      "Model with rank: 13\n",
      "Mean validation score: 0.856 (std: 0.002)\n",
      "Parameters: {'nb__alpha': 0.5, 'selector__percentile': 75, 'tfidf__ngram_range': (1, 1)}\n",
      "\n",
      "Model with rank: 14\n",
      "Mean validation score: 0.855 (std: 0.002)\n",
      "Parameters: {'nb__alpha': 0.5, 'selector__percentile': 50, 'tfidf__ngram_range': (1, 1)}\n",
      "\n",
      "Model with rank: 15\n",
      "Mean validation score: 0.855 (std: 0.001)\n",
      "Parameters: {'nb__alpha': 0.5, 'selector__percentile': 25, 'tfidf__ngram_range': (1, 1)}\n",
      "\n",
      "Model with rank: 16\n",
      "Mean validation score: 0.854 (std: 0.001)\n",
      "Parameters: {'nb__alpha': 10, 'selector__percentile': 75, 'tfidf__ngram_range': (1, 1)}\n",
      "\n",
      "Model with rank: 17\n",
      "Mean validation score: 0.854 (std: 0.001)\n",
      "Parameters: {'nb__alpha': 10, 'selector__percentile': 50, 'tfidf__ngram_range': (1, 1)}\n",
      "\n",
      "Model with rank: 18\n",
      "Mean validation score: 0.854 (std: 0.001)\n",
      "Parameters: {'nb__alpha': 10, 'selector__percentile': 25, 'tfidf__ngram_range': (1, 1)}\n",
      "\n"
     ]
    }
   ],
   "source": [
    "nb_pipeline = Pipeline([\n",
    "    ('tfidf', TfidfVectorizer(tokenizer=tokenizer_stemmer,preprocessor=clean_text,lowercase=False)),\n",
    "    ('selector',SelectPercentile(score_func=chi2)),\n",
    "    ('nb', MultinomialNB())\n",
    "])\n",
    "\n",
    "nb_grid_search = GridSearchCV(nb_pipeline, {\n",
    "    'tfidf__ngram_range': [(1, 2), (1, 1)], \n",
    "    'selector__percentile':[25,50,75],\n",
    "    'nb__alpha': [0.5, 1, 10]\n",
    "}, cv=2, verbose=10, n_jobs=-1)\n",
    "\n",
    "nb_grid_search.fit(X_train, y_train)\n",
    "report(nb_grid_search.cv_results_, n_top=20)"
   ]
  },
  {
   "cell_type": "code",
   "execution_count": null,
   "metadata": {},
   "outputs": [
    {
     "name": "stderr",
     "output_type": "stream",
     "text": [
      "C:\\Users\\пк\\AppData\\Local\\Packages\\PythonSoftwareFoundation.Python.3.11_qbz5n2kfra8p0\\LocalCache\\local-packages\\Python311\\site-packages\\sklearn\\feature_extraction\\text.py:521: UserWarning: The parameter 'token_pattern' will not be used since 'tokenizer' is not None'\n",
      "  warnings.warn(\n"
     ]
    },
    {
     "name": "stdout",
     "output_type": "stream",
     "text": [
      "Accuracy: 88.14\n",
      "\n",
      "Confusion Matrix:\n",
      " [[4346  611]\n",
      " [ 565 4395]]\n",
      "              precision    recall  f1-score   support\n",
      "\n",
      "           0     0.8850    0.8767    0.8808      4957\n",
      "           1     0.8779    0.8861    0.8820      4960\n",
      "\n",
      "    accuracy                         0.8814      9917\n",
      "   macro avg     0.8814    0.8814    0.8814      9917\n",
      "weighted avg     0.8814    0.8814    0.8814      9917\n",
      "\n",
      "Area under the ROC curve : 0.949865\n",
      "None\n"
     ]
    },
    {
     "data": {
      "image/png": "[encoded data removed]",
      "text/plain": [
       "<Figure size 640x480 with 1 Axes>"
      ]
     },
     "metadata": {},
     "output_type": "display_data"
    }
   ],
   "source": [
    "nb_pipeline = Pipeline([\n",
    "    ('tfidf', TfidfVectorizer(tokenizer=tokenizer_stemmer,preprocessor=clean_text,lowercase=False, ngram_range=(1,2))),\n",
    "    ('selector',SelectPercentile(score_func=chi2, percentile=50)),\n",
    "    ('nb', MultinomialNB(alpha=0.5))\n",
    "])\n",
    "\n",
    "nb_pipeline.fit(X_train, y_train)\n",
    "y_pred = nb_pipeline.predict(X_test)\n",
    "y_prob = nb_pipeline.predict_proba(X_test)[:, 1]\n",
    "print(clf_metrics(y_pred, y_prob))"
   ]
  },
  {
   "cell_type": "markdown",
   "metadata": {},
   "source": [
    "The results of the optimized model outperform the initial model with an accuracy score of 88.11 compared to 85.53 prior"
   ]
  },
  {
   "cell_type": "markdown",
   "metadata": {},
   "source": [
    "### Support Vector Machine"
   ]
  },
  {
   "cell_type": "code",
   "execution_count": null,
   "metadata": {},
   "outputs": [
    {
     "name": "stderr",
     "output_type": "stream",
     "text": [
      "C:\\Users\\пк\\AppData\\Local\\Packages\\PythonSoftwareFoundation.Python.3.11_qbz5n2kfra8p0\\LocalCache\\local-packages\\Python311\\site-packages\\sklearn\\feature_extraction\\text.py:521: UserWarning: The parameter 'token_pattern' will not be used since 'tokenizer' is not None'\n",
      "  warnings.warn(\n"
     ]
    },
    {
     "name": "stdout",
     "output_type": "stream",
     "text": [
      "Accuracy: 89.28\n",
      "\n",
      "Confusion Matrix:\n",
      " [[4364  593]\n",
      " [ 470 4490]]\n",
      "              precision    recall  f1-score   support\n",
      "\n",
      "           0     0.9028    0.8804    0.8914      4957\n",
      "           1     0.8833    0.9052    0.8942      4960\n",
      "\n",
      "    accuracy                         0.8928      9917\n",
      "   macro avg     0.8931    0.8928    0.8928      9917\n",
      "weighted avg     0.8931    0.8928    0.8928      9917\n",
      "\n",
      "Area under the ROC curve : 0.958026\n",
      "None\n"
     ]
    },
    {
     "data": {
      "image/png": "[encoded data removed]",
      "text/plain": [
       "<Figure size 640x480 with 1 Axes>"
      ]
     },
     "metadata": {},
     "output_type": "display_data"
    }
   ],
   "source": [
    "svc_pipeline = Pipeline([\n",
    "    ('tfidf', TfidfVectorizer()),\n",
    "    ('svc', SVC(random_state=RANDOM_SEED, kernel='linear'))\n",
    "])\n",
    "\n",
    "svc_pipeline.fit(X_train, y_train)\n",
    "y_pred = svc_pipeline.predict(X_test)\n",
    "y_prob = svc_pipeline.decision_function(X_test)\n",
    "print(clf_metrics(y_pred, y_prob))"
   ]
  },
  {
   "cell_type": "markdown",
   "metadata": {},
   "source": [
    "Applying Grid Search Hyperparameter Tuning & 2-Fold Cross Validation to find the best parameters."
   ]
  },
  {
   "cell_type": "code",
   "execution_count": null,
   "metadata": {},
   "outputs": [
    {
     "name": "stdout",
     "output_type": "stream",
     "text": [
      "Fitting 2 folds for each of 18 candidates, totalling 36 fits\n"
     ]
    },
    {
     "name": "stderr",
     "output_type": "stream",
     "text": [
      "C:\\Users\\пк\\AppData\\Local\\Packages\\PythonSoftwareFoundation.Python.3.11_qbz5n2kfra8p0\\LocalCache\\local-packages\\Python311\\site-packages\\sklearn\\feature_extraction\\text.py:521: UserWarning: The parameter 'token_pattern' will not be used since 'tokenizer' is not None'\n",
      "  warnings.warn(\n"
     ]
    },
    {
     "name": "stdout",
     "output_type": "stream",
     "text": [
      "Model with rank: 1\n",
      "Mean validation score: 0.902 (std: 0.001)\n",
      "Parameters: {'selector__percentile': 75, 'svc__C': 10, 'tfidf__ngram_range': (1, 2)}\n",
      "\n",
      "Model with rank: 2\n",
      "Mean validation score: 0.899 (std: 0.001)\n",
      "Parameters: {'selector__percentile': 75, 'svc__C': 1, 'tfidf__ngram_range': (1, 2)}\n",
      "\n",
      "Model with rank: 3\n",
      "Mean validation score: 0.899 (std: 0.001)\n",
      "Parameters: {'selector__percentile': 50, 'svc__C': 1, 'tfidf__ngram_range': (1, 2)}\n",
      "\n",
      "Model with rank: 4\n",
      "Mean validation score: 0.898 (std: 0.001)\n",
      "Parameters: {'selector__percentile': 50, 'svc__C': 10, 'tfidf__ngram_range': (1, 2)}\n",
      "\n",
      "Model with rank: 5\n",
      "Mean validation score: 0.898 (std: 0.000)\n",
      "Parameters: {'selector__percentile': 25, 'svc__C': 1, 'tfidf__ngram_range': (1, 2)}\n",
      "\n",
      "Model with rank: 6\n",
      "Mean validation score: 0.896 (std: 0.001)\n",
      "Parameters: {'selector__percentile': 25, 'svc__C': 10, 'tfidf__ngram_range': (1, 2)}\n",
      "\n",
      "Model with rank: 7\n",
      "Mean validation score: 0.888 (std: 0.000)\n",
      "Parameters: {'selector__percentile': 50, 'svc__C': 1, 'tfidf__ngram_range': (1, 1)}\n",
      "\n",
      "Model with rank: 8\n",
      "Mean validation score: 0.888 (std: 0.000)\n",
      "Parameters: {'selector__percentile': 25, 'svc__C': 1, 'tfidf__ngram_range': (1, 1)}\n",
      "\n",
      "Model with rank: 9\n",
      "Mean validation score: 0.887 (std: 0.001)\n",
      "Parameters: {'selector__percentile': 75, 'svc__C': 1, 'tfidf__ngram_range': (1, 1)}\n",
      "\n",
      "Model with rank: 10\n",
      "Mean validation score: 0.871 (std: 0.000)\n",
      "Parameters: {'selector__percentile': 75, 'svc__C': 0.1, 'tfidf__ngram_range': (1, 1)}\n",
      "\n",
      "Model with rank: 11\n",
      "Mean validation score: 0.871 (std: 0.002)\n",
      "Parameters: {'selector__percentile': 25, 'svc__C': 10, 'tfidf__ngram_range': (1, 1)}\n",
      "\n",
      "Model with rank: 12\n",
      "Mean validation score: 0.870 (std: 0.001)\n",
      "Parameters: {'selector__percentile': 50, 'svc__C': 10, 'tfidf__ngram_range': (1, 1)}\n",
      "\n",
      "Model with rank: 13\n",
      "Mean validation score: 0.870 (std: 0.001)\n",
      "Parameters: {'selector__percentile': 50, 'svc__C': 0.1, 'tfidf__ngram_range': (1, 1)}\n",
      "\n",
      "Model with rank: 14\n",
      "Mean validation score: 0.868 (std: 0.001)\n",
      "Parameters: {'selector__percentile': 25, 'svc__C': 0.1, 'tfidf__ngram_range': (1, 1)}\n",
      "\n",
      "Model with rank: 15\n",
      "Mean validation score: 0.866 (std: 0.001)\n",
      "Parameters: {'selector__percentile': 75, 'svc__C': 10, 'tfidf__ngram_range': (1, 1)}\n",
      "\n",
      "Model with rank: 16\n",
      "Mean validation score: 0.857 (std: 0.000)\n",
      "Parameters: {'selector__percentile': 75, 'svc__C': 0.1, 'tfidf__ngram_range': (1, 2)}\n",
      "\n",
      "Model with rank: 17\n",
      "Mean validation score: 0.856 (std: 0.001)\n",
      "Parameters: {'selector__percentile': 50, 'svc__C': 0.1, 'tfidf__ngram_range': (1, 2)}\n",
      "\n",
      "Model with rank: 18\n",
      "Mean validation score: 0.855 (std: 0.001)\n",
      "Parameters: {'selector__percentile': 25, 'svc__C': 0.1, 'tfidf__ngram_range': (1, 2)}\n",
      "\n"
     ]
    }
   ],
   "source": [
    "svc_pipeline = Pipeline([\n",
    "    ('tfidf', TfidfVectorizer(tokenizer=tokenizer_stemmer,preprocessor=clean_text,lowercase=False)),\n",
    "    ('selector',SelectPercentile(score_func=chi2)),\n",
    "    ('svc', SVC(random_state=RANDOM_SEED, kernel='linear'))\n",
    "])\n",
    "\n",
    "svc_grid_search = GridSearchCV(svc_pipeline, {\n",
    "    'tfidf__ngram_range': [(1, 1), (1, 2)], \n",
    "    'selector__percentile':[25,50,75],\n",
    "    'svc__C': [0.1, 1, 10]\n",
    "}, cv=2, verbose=10, n_jobs=-1)\n",
    "\n",
    "svc_grid_search.fit(X_train, y_train)\n",
    "report(svc_grid_search.cv_results_, n_top=20)"
   ]
  },
  {
   "cell_type": "code",
   "execution_count": null,
   "metadata": {},
   "outputs": [
    {
     "name": "stderr",
     "output_type": "stream",
     "text": [
      "C:\\Users\\пк\\AppData\\Local\\Packages\\PythonSoftwareFoundation.Python.3.11_qbz5n2kfra8p0\\LocalCache\\local-packages\\Python311\\site-packages\\sklearn\\feature_extraction\\text.py:521: UserWarning: The parameter 'token_pattern' will not be used since 'tokenizer' is not None'\n",
      "  warnings.warn(\n"
     ]
    },
    {
     "name": "stdout",
     "output_type": "stream",
     "text": [
      "Accuracy: 90.78\n",
      "\n",
      "Confusion Matrix:\n",
      " [[4462  495]\n",
      " [ 419 4541]]\n",
      "              precision    recall  f1-score   support\n",
      "\n",
      "           0     0.9142    0.9001    0.9071      4957\n",
      "           1     0.9017    0.9155    0.9086      4960\n",
      "\n",
      "    accuracy                         0.9078      9917\n",
      "   macro avg     0.9079    0.9078    0.9078      9917\n",
      "weighted avg     0.9079    0.9078    0.9078      9917\n",
      "\n",
      "Area under the ROC curve : 0.965350\n",
      "None\n"
     ]
    },
    {
     "data": {
      "image/png": "[encoded data removed]",
      "text/plain": [
       "<Figure size 640x480 with 1 Axes>"
      ]
     },
     "metadata": {},
     "output_type": "display_data"
    }
   ],
   "source": [
    "svc_pipeline = Pipeline([\n",
    "    ('tfidf', TfidfVectorizer(tokenizer=tokenizer_stemmer,preprocessor=clean_text,lowercase=False, ngram_range=(1,2))),\n",
    "    ('selector',SelectPercentile(score_func=chi2, percentile=75)),\n",
    "    ('svc', SVC(random_state=RANDOM_SEED, kernel='linear', C=10))\n",
    "])\n",
    "\n",
    "svc_pipeline.fit(X_train, y_train)\n",
    "y_pred = svc_pipeline.predict(X_test)\n",
    "y_prob = svc_pipeline.decision_function(X_test)\n",
    "print(clf_metrics(y_pred, y_prob))\n"
   ]
  },
  {
   "cell_type": "markdown",
   "metadata": {},
   "source": [
    "The results of the optimized model outperform the initial model with an accuracy score of 90.78 compared to 89.28 prior "
   ]
  },
  {
   "cell_type": "code",
   "execution_count": null,
   "metadata": {},
   "outputs": [],
   "source": [
    "# Save the model to a file\n",
    "with open('models/lr_model.pkl', 'wb') as file:\n",
    "    pickle.dump(lr_grid_search, file)\n",
    "\n",
    "with open('models/nb_model.pkl', 'wb') as file:\n",
    "    pickle.dump(nb_grid_search, file)\n",
    "\n",
    "with open('models/svc_model.pkl', 'wb') as file:\n",
    "    pickle.dump(svc_grid_search, file)"
   ]
  },
  {
   "cell_type": "markdown",
   "metadata": {},
   "source": [
    "## Testing trained models on different datasets"
   ]
  },
  {
   "cell_type": "code",
   "execution_count": 10,
   "metadata": {},
   "outputs": [],
   "source": [
    "# Load the model from the file\n",
    "with open('models/lr_model.pkl', 'rb') as f:\n",
    "    lr_model = pickle.load(f)\n",
    "\n",
    "with open('models/nb_model.pkl', 'rb') as f:\n",
    "    nb_model = pickle.load(f)\n",
    "\n",
    "with open('models/svc_model.pkl', 'rb') as f:\n",
    "    svc_model = pickle.load(f)"
   ]
  },
  {
   "cell_type": "markdown",
   "metadata": {},
   "source": [
    "### Cornel Movie Reviews"
   ]
  },
  {
   "cell_type": "code",
   "execution_count": 11,
   "metadata": {},
   "outputs": [
    {
     "data": {
      "text/html": [
       "<div>\n",
       "<style scoped>\n",
       "    .dataframe tbody tr th:only-of-type {\n",
       "        vertical-align: middle;\n",
       "    }\n",
       "\n",
       "    .dataframe tbody tr th {\n",
       "        vertical-align: top;\n",
       "    }\n",
       "\n",
       "    .dataframe thead th {\n",
       "        text-align: right;\n",
       "    }\n",
       "</style>\n",
       "<table border=\"1\" class=\"dataframe\">\n",
       "  <thead>\n",
       "    <tr style=\"text-align: right;\">\n",
       "      <th></th>\n",
       "      <th>review</th>\n",
       "      <th>sentiment</th>\n",
       "    </tr>\n",
       "  </thead>\n",
       "  <tbody>\n",
       "    <tr>\n",
       "      <th>0</th>\n",
       "      <td>i guess that if a very wild bachelor party had...</td>\n",
       "      <td>0</td>\n",
       "    </tr>\n",
       "    <tr>\n",
       "      <th>1</th>\n",
       "      <td>with the abundance of trite , recycled movies ...</td>\n",
       "      <td>1</td>\n",
       "    </tr>\n",
       "    <tr>\n",
       "      <th>2</th>\n",
       "      <td>as a hot-shot defense attorney , kevin lomax (...</td>\n",
       "      <td>0</td>\n",
       "    </tr>\n",
       "    <tr>\n",
       "      <th>3</th>\n",
       "      <td>hedwig ( john cameron mitchell ) was born a bo...</td>\n",
       "      <td>1</td>\n",
       "    </tr>\n",
       "    <tr>\n",
       "      <th>4</th>\n",
       "      <td>i've heard it called \" jaws with claws \" and t...</td>\n",
       "      <td>0</td>\n",
       "    </tr>\n",
       "    <tr>\n",
       "      <th>...</th>\n",
       "      <td>...</td>\n",
       "      <td>...</td>\n",
       "    </tr>\n",
       "    <tr>\n",
       "      <th>1995</th>\n",
       "      <td>i never understood what the clich ? \" hell on ...</td>\n",
       "      <td>0</td>\n",
       "    </tr>\n",
       "    <tr>\n",
       "      <th>1996</th>\n",
       "      <td>in this re-make of the 1954 japanese monster f...</td>\n",
       "      <td>0</td>\n",
       "    </tr>\n",
       "    <tr>\n",
       "      <th>1997</th>\n",
       "      <td>the verdict : spine-chilling drama from horror...</td>\n",
       "      <td>1</td>\n",
       "    </tr>\n",
       "    <tr>\n",
       "      <th>1998</th>\n",
       "      <td>\" . . . because i'm a scientist . \\nthat's wh...</td>\n",
       "      <td>0</td>\n",
       "    </tr>\n",
       "    <tr>\n",
       "      <th>1999</th>\n",
       "      <td>plot : a separated , glamorous , hollywood cou...</td>\n",
       "      <td>0</td>\n",
       "    </tr>\n",
       "  </tbody>\n",
       "</table>\n",
       "<p>2000 rows × 2 columns</p>\n",
       "</div>"
      ],
      "text/plain": [
       "                                                 review  sentiment\n",
       "0     i guess that if a very wild bachelor party had...          0\n",
       "1     with the abundance of trite , recycled movies ...          1\n",
       "2     as a hot-shot defense attorney , kevin lomax (...          0\n",
       "3     hedwig ( john cameron mitchell ) was born a bo...          1\n",
       "4     i've heard it called \" jaws with claws \" and t...          0\n",
       "...                                                 ...        ...\n",
       "1995  i never understood what the clich ? \" hell on ...          0\n",
       "1996  in this re-make of the 1954 japanese monster f...          0\n",
       "1997  the verdict : spine-chilling drama from horror...          1\n",
       "1998   \" . . . because i'm a scientist . \\nthat's wh...          0\n",
       "1999  plot : a separated , glamorous , hollywood cou...          0\n",
       "\n",
       "[2000 rows x 2 columns]"
      ]
     },
     "execution_count": 11,
     "metadata": {},
     "output_type": "execute_result"
    }
   ],
   "source": [
    "filename = \"data/cornel_movie_review.tar.gz\"\n",
    "# Load training data \n",
    "pos_train_df = load_data(\"txt_sentoken/pos\", 1)\n",
    "neg_train_df = load_data( \"txt_sentoken/neg\", 0)\n",
    "\n",
    "# Merge the negative and positive train datasets and shuffle the resultant records\n",
    "df = pd.concat([pos_train_df, neg_train_df], ignore_index=True)\n",
    "df = df.sample(frac=1, random_state=42).reset_index(drop=True)\n",
    "\n",
    "df"
   ]
  },
  {
   "cell_type": "code",
   "execution_count": null,
   "metadata": {},
   "outputs": [
    {
     "name": "stdout",
     "output_type": "stream",
     "text": [
      "Loaded Model Accuracy: 88.2 %\n",
      "Loaded Model Classification Report:\n",
      "               precision    recall  f1-score   support\n",
      "\n",
      "           0       0.88      0.88      0.88      1000\n",
      "           1       0.88      0.89      0.88      1000\n",
      "\n",
      "    accuracy                           0.88      2000\n",
      "   macro avg       0.88      0.88      0.88      2000\n",
      "weighted avg       0.88      0.88      0.88      2000\n",
      "\n"
     ]
    }
   ],
   "source": [
    "X_test, y_test = df['review'], df['sentiment']\n",
    "# Use the linear regression model\n",
    "y_pred_loaded = lr_model.predict(X_test)\n",
    "# Evaluate the model\n",
    "print(\"Loaded Model Accuracy:\", accuracy_score(y_test, y_pred_loaded)*100, \"%\")\n",
    "print(\"Loaded Model Classification Report:\\n\", classification_report(y_test, y_pred_loaded))"
   ]
  },
  {
   "cell_type": "code",
   "execution_count": null,
   "metadata": {},
   "outputs": [
    {
     "name": "stdout",
     "output_type": "stream",
     "text": [
      "Loaded Model Accuracy: 83.35000000000001 %\n",
      "Loaded Model Classification Report:\n",
      "               precision    recall  f1-score   support\n",
      "\n",
      "           0       0.85      0.81      0.83      1000\n",
      "           1       0.82      0.86      0.84      1000\n",
      "\n",
      "    accuracy                           0.83      2000\n",
      "   macro avg       0.83      0.83      0.83      2000\n",
      "weighted avg       0.83      0.83      0.83      2000\n",
      "\n"
     ]
    }
   ],
   "source": [
    "X_test, y_test = df['review'], df['sentiment']\n",
    "# Use the Naive Bayes model\n",
    "y_pred_loaded = nb_model.predict(X_test)\n",
    "# Evaluate the model\n",
    "print(\"Loaded Model Accuracy:\", accuracy_score(y_test, y_pred_loaded)*100, \"%\")\n",
    "print(\"Loaded Model Classification Report:\\n\", classification_report(y_test, y_pred_loaded))"
   ]
  },
  {
   "cell_type": "code",
   "execution_count": null,
   "metadata": {},
   "outputs": [
    {
     "name": "stdout",
     "output_type": "stream",
     "text": [
      "Loaded Model Accuracy: 88.05 %\n",
      "Loaded Model Classification Report:\n",
      "               precision    recall  f1-score   support\n",
      "\n",
      "           0       0.88      0.88      0.88      1000\n",
      "           1       0.88      0.88      0.88      1000\n",
      "\n",
      "    accuracy                           0.88      2000\n",
      "   macro avg       0.88      0.88      0.88      2000\n",
      "weighted avg       0.88      0.88      0.88      2000\n",
      "\n"
     ]
    }
   ],
   "source": [
    "X_test, y_test = df['review'], df['sentiment']\n",
    "# Use the SVM model \n",
    "y_pred_loaded = svc_model.predict(X_test)\n",
    "# Evaluate the model\n",
    "print(\"Loaded Model Accuracy:\", accuracy_score(y_test, y_pred_loaded)*100, \"%\")\n",
    "print(\"Loaded Model Classification Report:\\n\", classification_report(y_test, y_pred_loaded))"
   ]
  },
  {
   "cell_type": "markdown",
   "metadata": {},
   "source": [
    "### Rotten Tomatoes Reviews"
   ]
  },
  {
   "cell_type": "code",
   "execution_count": null,
   "metadata": {},
   "outputs": [
    {
     "data": {
      "text/html": [
       "<div>\n",
       "<style scoped>\n",
       "    .dataframe tbody tr th:only-of-type {\n",
       "        vertical-align: middle;\n",
       "    }\n",
       "\n",
       "    .dataframe tbody tr th {\n",
       "        vertical-align: top;\n",
       "    }\n",
       "\n",
       "    .dataframe thead th {\n",
       "        text-align: right;\n",
       "    }\n",
       "</style>\n",
       "<table border=\"1\" class=\"dataframe\">\n",
       "  <thead>\n",
       "    <tr style=\"text-align: right;\">\n",
       "      <th></th>\n",
       "      <th>reviews</th>\n",
       "      <th>labels</th>\n",
       "    </tr>\n",
       "  </thead>\n",
       "  <tbody>\n",
       "    <tr>\n",
       "      <th>0</th>\n",
       "      <td>simplistic , silly and tedious .</td>\n",
       "      <td>0</td>\n",
       "    </tr>\n",
       "    <tr>\n",
       "      <th>1</th>\n",
       "      <td>it's so laddish and juvenile , only teenage bo...</td>\n",
       "      <td>0</td>\n",
       "    </tr>\n",
       "    <tr>\n",
       "      <th>2</th>\n",
       "      <td>exploitative and largely devoid of the depth o...</td>\n",
       "      <td>0</td>\n",
       "    </tr>\n",
       "    <tr>\n",
       "      <th>3</th>\n",
       "      <td>[garbus] discards the potential for pathologic...</td>\n",
       "      <td>0</td>\n",
       "    </tr>\n",
       "    <tr>\n",
       "      <th>4</th>\n",
       "      <td>a visually flashy but narratively opaque and e...</td>\n",
       "      <td>0</td>\n",
       "    </tr>\n",
       "    <tr>\n",
       "      <th>...</th>\n",
       "      <td>...</td>\n",
       "      <td>...</td>\n",
       "    </tr>\n",
       "    <tr>\n",
       "      <th>10657</th>\n",
       "      <td>both exuberantly romantic and serenely melanch...</td>\n",
       "      <td>1</td>\n",
       "    </tr>\n",
       "    <tr>\n",
       "      <th>10658</th>\n",
       "      <td>mazel tov to a film about a family's joyous li...</td>\n",
       "      <td>1</td>\n",
       "    </tr>\n",
       "    <tr>\n",
       "      <th>10659</th>\n",
       "      <td>standing in the shadows of motown is the best ...</td>\n",
       "      <td>1</td>\n",
       "    </tr>\n",
       "    <tr>\n",
       "      <th>10660</th>\n",
       "      <td>it's nice to see piscopo again after all these...</td>\n",
       "      <td>1</td>\n",
       "    </tr>\n",
       "    <tr>\n",
       "      <th>10661</th>\n",
       "      <td>provides a porthole into that noble , tremblin...</td>\n",
       "      <td>1</td>\n",
       "    </tr>\n",
       "  </tbody>\n",
       "</table>\n",
       "<p>10662 rows × 2 columns</p>\n",
       "</div>"
      ],
      "text/plain": [
       "                                                 reviews  labels\n",
       "0                      simplistic , silly and tedious .        0\n",
       "1      it's so laddish and juvenile , only teenage bo...       0\n",
       "2      exploitative and largely devoid of the depth o...       0\n",
       "3      [garbus] discards the potential for pathologic...       0\n",
       "4      a visually flashy but narratively opaque and e...       0\n",
       "...                                                  ...     ...\n",
       "10657  both exuberantly romantic and serenely melanch...       1\n",
       "10658  mazel tov to a film about a family's joyous li...       1\n",
       "10659  standing in the shadows of motown is the best ...       1\n",
       "10660  it's nice to see piscopo again after all these...       1\n",
       "10661  provides a porthole into that noble , tremblin...       1\n",
       "\n",
       "[10662 rows x 2 columns]"
      ]
     },
     "execution_count": 17,
     "metadata": {},
     "output_type": "execute_result"
    }
   ],
   "source": [
    "# Read data\n",
    "reviews_df = pd.read_csv(\"data/rt_movie_review.csv\")\n",
    "reviews_df"
   ]
  },
  {
   "cell_type": "code",
   "execution_count": null,
   "metadata": {},
   "outputs": [
    {
     "name": "stdout",
     "output_type": "stream",
     "text": [
      "Loaded Model Accuracy: 74.1418120427687 %\n",
      "Loaded Model Classification Report:\n",
      "               precision    recall  f1-score   support\n",
      "\n",
      "           0       0.76      0.70      0.73      5331\n",
      "           1       0.72      0.78      0.75      5331\n",
      "\n",
      "    accuracy                           0.74     10662\n",
      "   macro avg       0.74      0.74      0.74     10662\n",
      "weighted avg       0.74      0.74      0.74     10662\n",
      "\n"
     ]
    }
   ],
   "source": [
    "X_test, y_test = reviews_df['reviews'], reviews_df['labels']\n",
    "# Use the linear regression model\n",
    "y_pred_loaded = lr_model.predict(X_test)\n",
    "# Evaluate the model\n",
    "print(\"Loaded Model Accuracy:\", accuracy_score(y_test, y_pred_loaded)*100, \"%\")\n",
    "print(\"Loaded Model Classification Report:\\n\", classification_report(y_test, y_pred_loaded))"
   ]
  },
  {
   "cell_type": "code",
   "execution_count": null,
   "metadata": {},
   "outputs": [
    {
     "name": "stdout",
     "output_type": "stream",
     "text": [
      "Loaded Model Accuracy: 75.29544175576814 %\n",
      "Loaded Model Classification Report:\n",
      "               precision    recall  f1-score   support\n",
      "\n",
      "           0       0.79      0.68      0.73      5331\n",
      "           1       0.72      0.82      0.77      5331\n",
      "\n",
      "    accuracy                           0.75     10662\n",
      "   macro avg       0.76      0.75      0.75     10662\n",
      "weighted avg       0.76      0.75      0.75     10662\n",
      "\n"
     ]
    }
   ],
   "source": [
    "X_test, y_test = reviews_df['reviews'], reviews_df['labels']\n",
    "# Use the Naive Bayes model\n",
    "y_pred_loaded = nb_model.predict(X_test)\n",
    "# Evaluate the model\n",
    "print(\"Loaded Model Accuracy:\", accuracy_score(y_test, y_pred_loaded)*100, \"%\")\n",
    "print(\"Loaded Model Classification Report:\\n\", classification_report(y_test, y_pred_loaded))"
   ]
  },
  {
   "cell_type": "code",
   "execution_count": null,
   "metadata": {},
   "outputs": [
    {
     "name": "stdout",
     "output_type": "stream",
     "text": [
      "Loaded Model Accuracy: 74.02926280247608 %\n",
      "Loaded Model Classification Report:\n",
      "               precision    recall  f1-score   support\n",
      "\n",
      "           0       0.76      0.71      0.73      5331\n",
      "           1       0.73      0.77      0.75      5331\n",
      "\n",
      "    accuracy                           0.74     10662\n",
      "   macro avg       0.74      0.74      0.74     10662\n",
      "weighted avg       0.74      0.74      0.74     10662\n",
      "\n"
     ]
    }
   ],
   "source": [
    "X_test, y_test = reviews_df['reviews'], reviews_df['labels']\n",
    "# Use the SVM model \n",
    "y_pred_loaded = svc_model.predict(X_test)\n",
    "# Evaluate the model\n",
    "print(\"Loaded Model Accuracy:\", accuracy_score(y_test, y_pred_loaded)*100, \"%\")\n",
    "print(\"Loaded Model Classification Report:\\n\", classification_report(y_test, y_pred_loaded))"
   ]
  },
  {
   "cell_type": "markdown",
   "metadata": {},
   "source": [
    "### SAR14"
   ]
  },
  {
   "cell_type": "code",
   "execution_count": null,
   "metadata": {},
   "outputs": [
    {
     "data": {
      "text/html": [
       "<div>\n",
       "<style scoped>\n",
       "    .dataframe tbody tr th:only-of-type {\n",
       "        vertical-align: middle;\n",
       "    }\n",
       "\n",
       "    .dataframe tbody tr th {\n",
       "        vertical-align: top;\n",
       "    }\n",
       "\n",
       "    .dataframe thead th {\n",
       "        text-align: right;\n",
       "    }\n",
       "</style>\n",
       "<table border=\"1\" class=\"dataframe\">\n",
       "  <thead>\n",
       "    <tr style=\"text-align: right;\">\n",
       "      <th></th>\n",
       "      <th>reviews</th>\n",
       "      <th>labels</th>\n",
       "    </tr>\n",
       "  </thead>\n",
       "  <tbody>\n",
       "    <tr>\n",
       "      <th>0</th>\n",
       "      <td>The first art-film ? . this is possibly the m...</td>\n",
       "      <td>1</td>\n",
       "    </tr>\n",
       "    <tr>\n",
       "      <th>1</th>\n",
       "      <td>collision between the tradition of family val...</td>\n",
       "      <td>1</td>\n",
       "    </tr>\n",
       "    <tr>\n",
       "      <th>2</th>\n",
       "      <td>An everyday occurrence for posterity . Louis ...</td>\n",
       "      <td>0</td>\n",
       "    </tr>\n",
       "    <tr>\n",
       "      <th>3</th>\n",
       "      <td>The first family film ? . Monsieur Lumi re no...</td>\n",
       "      <td>0</td>\n",
       "    </tr>\n",
       "    <tr>\n",
       "      <th>4</th>\n",
       "      <td>Ouch ! That 's Got ta Hurt ! -LRB- SPOILERS -...</td>\n",
       "      <td>1</td>\n",
       "    </tr>\n",
       "    <tr>\n",
       "      <th>...</th>\n",
       "      <td>...</td>\n",
       "      <td>...</td>\n",
       "    </tr>\n",
       "    <tr>\n",
       "      <th>233595</th>\n",
       "      <td>Without the king . The trailer for the film l...</td>\n",
       "      <td>1</td>\n",
       "    </tr>\n",
       "    <tr>\n",
       "      <th>233596</th>\n",
       "      <td>with a king . I watched your documentary sir ...</td>\n",
       "      <td>0</td>\n",
       "    </tr>\n",
       "    <tr>\n",
       "      <th>233597</th>\n",
       "      <td>What was the casting dept thinking ?? . Well ...</td>\n",
       "      <td>0</td>\n",
       "    </tr>\n",
       "    <tr>\n",
       "      <th>233598</th>\n",
       "      <td>This could be a `` so '' good movie . What fi...</td>\n",
       "      <td>0</td>\n",
       "    </tr>\n",
       "    <tr>\n",
       "      <th>233599</th>\n",
       "      <td>Nifty supernatural serial killer thriller . D...</td>\n",
       "      <td>1</td>\n",
       "    </tr>\n",
       "  </tbody>\n",
       "</table>\n",
       "<p>233600 rows × 2 columns</p>\n",
       "</div>"
      ],
      "text/plain": [
       "                                                  reviews  labels\n",
       "0        The first art-film ? . this is possibly the m...       1\n",
       "1        collision between the tradition of family val...       1\n",
       "2        An everyday occurrence for posterity . Louis ...       0\n",
       "3        The first family film ? . Monsieur Lumi re no...       0\n",
       "4        Ouch ! That 's Got ta Hurt ! -LRB- SPOILERS -...       1\n",
       "...                                                   ...     ...\n",
       "233595   Without the king . The trailer for the film l...       1\n",
       "233596   with a king . I watched your documentary sir ...       0\n",
       "233597   What was the casting dept thinking ?? . Well ...       0\n",
       "233598   This could be a `` so '' good movie . What fi...       0\n",
       "233599   Nifty supernatural serial killer thriller . D...       1\n",
       "\n",
       "[233600 rows x 2 columns]"
      ]
     },
     "execution_count": 32,
     "metadata": {},
     "output_type": "execute_result"
    }
   ],
   "source": [
    "df = pd.read_csv('data/SAR14.txt',header=None,names=['reviews','labels'])\n",
    "df=df.replace({1: 0, 2: 0, 3:0, 4:0, 7:1, 8:1, 9:1, 10:1})\n",
    "df"
   ]
  },
  {
   "cell_type": "code",
   "execution_count": null,
   "metadata": {},
   "outputs": [
    {
     "name": "stdout",
     "output_type": "stream",
     "text": [
      "Loaded Model Accuracy: 89.52482876712328 %\n",
      "Loaded Model Classification Report:\n",
      "               precision    recall  f1-score   support\n",
      "\n",
      "           0       0.76      0.91      0.83     66222\n",
      "           1       0.96      0.89      0.92    167378\n",
      "\n",
      "    accuracy                           0.90    233600\n",
      "   macro avg       0.86      0.90      0.88    233600\n",
      "weighted avg       0.91      0.90      0.90    233600\n",
      "\n"
     ]
    }
   ],
   "source": [
    "X_test, y_test = df['reviews'], df['labels']\n",
    "# Use the linear regression model\n",
    "y_pred_loaded = lr_model.predict(X_test)\n",
    "# Evaluate the model\n",
    "print(\"Loaded Model Accuracy:\", accuracy_score(y_test, y_pred_loaded)*100, \"%\")\n",
    "print(\"Loaded Model Classification Report:\\n\", classification_report(y_test, y_pred_loaded))"
   ]
  },
  {
   "cell_type": "code",
   "execution_count": null,
   "metadata": {},
   "outputs": [
    {
     "name": "stdout",
     "output_type": "stream",
     "text": [
      "Loaded Model Accuracy: 84.58518835616438 %\n",
      "Loaded Model Classification Report:\n",
      "               precision    recall  f1-score   support\n",
      "\n",
      "           0       0.67      0.91      0.77     66222\n",
      "           1       0.96      0.82      0.88    167378\n",
      "\n",
      "    accuracy                           0.85    233600\n",
      "   macro avg       0.81      0.86      0.83    233600\n",
      "weighted avg       0.88      0.85      0.85    233600\n",
      "\n"
     ]
    }
   ],
   "source": [
    "X_test, y_test = df['reviews'], df['labels']\n",
    "# Use the Naive Bayes model\n",
    "y_pred_loaded = nb_model.predict(X_test)\n",
    "# Evaluate the model\n",
    "print(\"Loaded Model Accuracy:\", accuracy_score(y_test, y_pred_loaded)*100, \"%\")\n",
    "print(\"Loaded Model Classification Report:\\n\", classification_report(y_test, y_pred_loaded))"
   ]
  },
  {
   "cell_type": "code",
   "execution_count": null,
   "metadata": {},
   "outputs": [
    {
     "name": "stdout",
     "output_type": "stream",
     "text": [
      "Loaded Model Accuracy: 89.43792808219177 %\n",
      "Loaded Model Classification Report:\n",
      "               precision    recall  f1-score   support\n",
      "\n",
      "           0       0.76      0.91      0.83     66222\n",
      "           1       0.96      0.89      0.92    167378\n",
      "\n",
      "    accuracy                           0.89    233600\n",
      "   macro avg       0.86      0.90      0.88    233600\n",
      "weighted avg       0.91      0.89      0.90    233600\n",
      "\n"
     ]
    }
   ],
   "source": [
    "X_test, y_test = df['reviews'], df['labels']\n",
    "# Use the SVM model \n",
    "y_pred_loaded = svc_model.predict(X_test)\n",
    "# Evaluate the model\n",
    "print(\"Loaded Model Accuracy:\", accuracy_score(y_test, y_pred_loaded)*100, \"%\")\n",
    "print(\"Loaded Model Classification Report:\\n\", classification_report(y_test, y_pred_loaded))"
   ]
  },
  {
   "cell_type": "markdown",
   "metadata": {},
   "source": [
    "Logistic regression model has achieved better results when comparing to the other models. Hence, we will use it to analyze movie reviews and determine the overall sentiment towards the movie. "
   ]
  },
  {
   "cell_type": "markdown",
   "metadata": {},
   "source": [
    "## Predicting Overall Sentiment with Logistic Regression"
   ]
  },
  {
   "cell_type": "code",
   "execution_count": null,
   "metadata": {},
   "outputs": [
    {
     "data": {
      "text/html": [
       "<div>\n",
       "<style scoped>\n",
       "    .dataframe tbody tr th:only-of-type {\n",
       "        vertical-align: middle;\n",
       "    }\n",
       "\n",
       "    .dataframe tbody tr th {\n",
       "        vertical-align: top;\n",
       "    }\n",
       "\n",
       "    .dataframe thead th {\n",
       "        text-align: right;\n",
       "    }\n",
       "</style>\n",
       "<table border=\"1\" class=\"dataframe\">\n",
       "  <thead>\n",
       "    <tr style=\"text-align: right;\">\n",
       "      <th></th>\n",
       "      <th>Movie name</th>\n",
       "      <th>Release Year</th>\n",
       "      <th>Rating</th>\n",
       "      <th>Reviewer name</th>\n",
       "      <th>Review date</th>\n",
       "      <th>Review</th>\n",
       "      <th>Comment count</th>\n",
       "      <th>Like count</th>\n",
       "    </tr>\n",
       "  </thead>\n",
       "  <tbody>\n",
       "    <tr>\n",
       "      <th>0</th>\n",
       "      <td>Aftersun (2022)</td>\n",
       "      <td>2022</td>\n",
       "      <td>â??â??â??â??Â½</td>\n",
       "      <td>Tuomas</td>\n",
       "      <td>12-Jan-20</td>\n",
       "      <td>This review may contain spoilers.</td>\n",
       "      <td>130</td>\n",
       "      <td>22,44 6   likes</td>\n",
       "    </tr>\n",
       "    <tr>\n",
       "      <th>1</th>\n",
       "      <td>Joker (2019)</td>\n",
       "      <td>2019</td>\n",
       "      <td>â??â??â??â??â??</td>\n",
       "      <td>Joao</td>\n",
       "      <td>20-Dec-22</td>\n",
       "      <td>if youâ??ve never swam in the ocean then of course a pool seems deep.</td>\n",
       "      <td>1.8K</td>\n",
       "      <td>22,032 likes</td>\n",
       "    </tr>\n",
       "    <tr>\n",
       "      <th>2</th>\n",
       "      <td>Puss in Boots: The Last Wish (2022)</td>\n",
       "      <td>2022</td>\n",
       "      <td>â??Â½</td>\n",
       "      <td>NicoPico</td>\n",
       "      <td>15-Sep-22</td>\n",
       "      <td>Puss in Boots: Into the Pussy-Verse</td>\n",
       "      <td>6  2</td>\n",
       "      <td>21, 6   6   6   likes</td>\n",
       "    </tr>\n",
       "    <tr>\n",
       "      <th>3</th>\n",
       "      <td>The Banshees of Inisherin (2022)</td>\n",
       "      <td>2022</td>\n",
       "      <td>â??â??â??â??â??</td>\n",
       "      <td>Ella Kemp</td>\n",
       "      <td>8-Apr-22</td>\n",
       "      <td>I will NOT leave my donkey outside when Iâ??m sad</td>\n",
       "      <td>NaN</td>\n",
       "      <td>21, 6  09 likes</td>\n",
       "    </tr>\n",
       "    <tr>\n",
       "      <th>4</th>\n",
       "      <td>Everything Everywhere All at Once (2022)</td>\n",
       "      <td>2022</td>\n",
       "      <td>â??â??Â½</td>\n",
       "      <td>CosmonautMarkie</td>\n",
       "      <td>14-Aug-19</td>\n",
       "      <td>Watch it and have fun before film Twitter tells you itâ??s overrated</td>\n",
       "      <td>355</td>\n",
       "      <td>20, 6  88 likes</td>\n",
       "    </tr>\n",
       "  </tbody>\n",
       "</table>\n",
       "</div>"
      ],
      "text/plain": [
       "                                 Movie name Release Year           Rating  \\\n",
       "0                           Aftersun (2022)         2022   â??â??â??â??Â½   \n",
       "1                              Joker (2019)         2019  â??â??â??â??â??   \n",
       "2       Puss in Boots: The Last Wish (2022)         2022            â??Â½   \n",
       "3          The Banshees of Inisherin (2022)         2022  â??â??â??â??â??   \n",
       "4  Everything Everywhere All at Once (2022)         2022         â??â??Â½   \n",
       "\n",
       "     Reviewer name Review date  \\\n",
       "0           Tuomas   12-Jan-20   \n",
       "1             Joao   20-Dec-22   \n",
       "2         NicoPico   15-Sep-22   \n",
       "3        Ella Kemp    8-Apr-22   \n",
       "4  CosmonautMarkie   14-Aug-19   \n",
       "\n",
       "                                                                  Review  \\\n",
       "0                                      This review may contain spoilers.   \n",
       "1  if youâ??ve never swam in the ocean then of course a pool seems deep.   \n",
       "2                                    Puss in Boots: Into the Pussy-Verse   \n",
       "3                      I will NOT leave my donkey outside when Iâ??m sad   \n",
       "4   Watch it and have fun before film Twitter tells you itâ??s overrated   \n",
       "\n",
       "  Comment count             Like count  \n",
       "0           130        22,44 6   likes  \n",
       "1          1.8K           22,032 likes  \n",
       "2          6  2  21, 6   6   6   likes  \n",
       "3           NaN        21, 6  09 likes  \n",
       "4           355        20, 6  88 likes  "
      ]
     },
     "execution_count": 149,
     "metadata": {},
     "output_type": "execute_result"
    }
   ],
   "source": [
    "# Read data\n",
    "reviews_df = pd.read_csv(\"data/letterboxd-reviews.csv\",encoding='ISO-8859-1',on_bad_lines='skip')\n",
    "reviews_df=reviews_df.dropna(subset=['Review']) # drop nan values\n",
    "reviews_df.head(5)"
   ]
  },
  {
   "cell_type": "code",
   "execution_count": null,
   "metadata": {},
   "outputs": [
    {
     "data": {
      "text/html": [
       "<div>\n",
       "<style scoped>\n",
       "    .dataframe tbody tr th:only-of-type {\n",
       "        vertical-align: middle;\n",
       "    }\n",
       "\n",
       "    .dataframe tbody tr th {\n",
       "        vertical-align: top;\n",
       "    }\n",
       "\n",
       "    .dataframe thead th {\n",
       "        text-align: right;\n",
       "    }\n",
       "</style>\n",
       "<table border=\"1\" class=\"dataframe\">\n",
       "  <thead>\n",
       "    <tr style=\"text-align: right;\">\n",
       "      <th></th>\n",
       "      <th>Movie name</th>\n",
       "      <th>Release Year</th>\n",
       "      <th>Rating</th>\n",
       "      <th>Reviewer name</th>\n",
       "      <th>Review date</th>\n",
       "      <th>Review</th>\n",
       "      <th>Comment count</th>\n",
       "      <th>Like count</th>\n",
       "      <th>sentiment</th>\n",
       "    </tr>\n",
       "  </thead>\n",
       "  <tbody>\n",
       "    <tr>\n",
       "      <th>0</th>\n",
       "      <td>Aftersun (2022)</td>\n",
       "      <td>2022</td>\n",
       "      <td>â??â??â??â??Â½</td>\n",
       "      <td>Tuomas</td>\n",
       "      <td>12-Jan-20</td>\n",
       "      <td>This review may contain spoilers.</td>\n",
       "      <td>130</td>\n",
       "      <td>22,44 6   likes</td>\n",
       "      <td>0</td>\n",
       "    </tr>\n",
       "    <tr>\n",
       "      <th>1</th>\n",
       "      <td>Joker (2019)</td>\n",
       "      <td>2019</td>\n",
       "      <td>â??â??â??â??â??</td>\n",
       "      <td>Joao</td>\n",
       "      <td>20-Dec-22</td>\n",
       "      <td>if youâ??ve never swam in the ocean then of course a pool seems deep.</td>\n",
       "      <td>1.8K</td>\n",
       "      <td>22,032 likes</td>\n",
       "      <td>1</td>\n",
       "    </tr>\n",
       "    <tr>\n",
       "      <th>2</th>\n",
       "      <td>Puss in Boots: The Last Wish (2022)</td>\n",
       "      <td>2022</td>\n",
       "      <td>â??Â½</td>\n",
       "      <td>NicoPico</td>\n",
       "      <td>15-Sep-22</td>\n",
       "      <td>Puss in Boots: Into the Pussy-Verse</td>\n",
       "      <td>6  2</td>\n",
       "      <td>21, 6   6   6   likes</td>\n",
       "      <td>1</td>\n",
       "    </tr>\n",
       "    <tr>\n",
       "      <th>3</th>\n",
       "      <td>The Banshees of Inisherin (2022)</td>\n",
       "      <td>2022</td>\n",
       "      <td>â??â??â??â??â??</td>\n",
       "      <td>Ella Kemp</td>\n",
       "      <td>8-Apr-22</td>\n",
       "      <td>I will NOT leave my donkey outside when Iâ??m sad</td>\n",
       "      <td>NaN</td>\n",
       "      <td>21, 6  09 likes</td>\n",
       "      <td>0</td>\n",
       "    </tr>\n",
       "    <tr>\n",
       "      <th>4</th>\n",
       "      <td>Everything Everywhere All at Once (2022)</td>\n",
       "      <td>2022</td>\n",
       "      <td>â??â??Â½</td>\n",
       "      <td>CosmonautMarkie</td>\n",
       "      <td>14-Aug-19</td>\n",
       "      <td>Watch it and have fun before film Twitter tells you itâ??s overrated</td>\n",
       "      <td>355</td>\n",
       "      <td>20, 6  88 likes</td>\n",
       "      <td>1</td>\n",
       "    </tr>\n",
       "  </tbody>\n",
       "</table>\n",
       "</div>"
      ],
      "text/plain": [
       "                                 Movie name Release Year           Rating  \\\n",
       "0                           Aftersun (2022)         2022   â??â??â??â??Â½   \n",
       "1                              Joker (2019)         2019  â??â??â??â??â??   \n",
       "2       Puss in Boots: The Last Wish (2022)         2022            â??Â½   \n",
       "3          The Banshees of Inisherin (2022)         2022  â??â??â??â??â??   \n",
       "4  Everything Everywhere All at Once (2022)         2022         â??â??Â½   \n",
       "\n",
       "     Reviewer name Review date  \\\n",
       "0           Tuomas   12-Jan-20   \n",
       "1             Joao   20-Dec-22   \n",
       "2         NicoPico   15-Sep-22   \n",
       "3        Ella Kemp    8-Apr-22   \n",
       "4  CosmonautMarkie   14-Aug-19   \n",
       "\n",
       "                                                                  Review  \\\n",
       "0                                      This review may contain spoilers.   \n",
       "1  if youâ??ve never swam in the ocean then of course a pool seems deep.   \n",
       "2                                    Puss in Boots: Into the Pussy-Verse   \n",
       "3                      I will NOT leave my donkey outside when Iâ??m sad   \n",
       "4   Watch it and have fun before film Twitter tells you itâ??s overrated   \n",
       "\n",
       "  Comment count             Like count  sentiment  \n",
       "0           130        22,44 6   likes          0  \n",
       "1          1.8K           22,032 likes          1  \n",
       "2          6  2  21, 6   6   6   likes          1  \n",
       "3           NaN        21, 6  09 likes          0  \n",
       "4           355        20, 6  88 likes          1  "
      ]
     },
     "execution_count": 150,
     "metadata": {},
     "output_type": "execute_result"
    }
   ],
   "source": [
    "# Predict on the data\n",
    "reviews_df['sentiment'] = lr_model.predict(reviews_df['Review'].astype('U').values)\n",
    "reviews_df.head(5)"
   ]
  },
  {
   "cell_type": "code",
   "execution_count": null,
   "metadata": {},
   "outputs": [
    {
     "data": {
      "text/html": [
       "<div>\n",
       "<style scoped>\n",
       "    .dataframe tbody tr th:only-of-type {\n",
       "        vertical-align: middle;\n",
       "    }\n",
       "\n",
       "    .dataframe tbody tr th {\n",
       "        vertical-align: top;\n",
       "    }\n",
       "\n",
       "    .dataframe thead th {\n",
       "        text-align: right;\n",
       "    }\n",
       "</style>\n",
       "<table border=\"1\" class=\"dataframe\">\n",
       "  <thead>\n",
       "    <tr style=\"text-align: right;\">\n",
       "      <th></th>\n",
       "      <th>Movie name</th>\n",
       "      <th>Release Year</th>\n",
       "      <th>Rating</th>\n",
       "      <th>Reviewer name</th>\n",
       "      <th>Review date</th>\n",
       "      <th>Review</th>\n",
       "      <th>Comment count</th>\n",
       "      <th>Like count</th>\n",
       "      <th>sentiment</th>\n",
       "    </tr>\n",
       "  </thead>\n",
       "  <tbody>\n",
       "    <tr>\n",
       "      <th>9</th>\n",
       "      <td>Dune (2021)</td>\n",
       "      <td>2021</td>\n",
       "      <td>â??â??â??â??</td>\n",
       "      <td>kÃ¡rsten</td>\n",
       "      <td>9-Aug-19</td>\n",
       "      <td>got the 4D experience by forgetting to drink water today and watching this extremely dehydrated</td>\n",
       "      <td>4</td>\n",
       "      <td>19, 6  24 likes</td>\n",
       "      <td>1</td>\n",
       "    </tr>\n",
       "    <tr>\n",
       "      <th>61</th>\n",
       "      <td>Dune (2021)</td>\n",
       "      <td>2021</td>\n",
       "      <td>NaN</td>\n",
       "      <td>cookie</td>\n",
       "      <td>6-Oct-21</td>\n",
       "      <td>at one point a kid in front of me got so bored he started doing a headstand in his seat which would normally be annoying but in this case was the most entertaining part of the movie</td>\n",
       "      <td>49</td>\n",
       "      <td>14,143 likes</td>\n",
       "      <td>0</td>\n",
       "    </tr>\n",
       "    <tr>\n",
       "      <th>326</th>\n",
       "      <td>Dune (2021)</td>\n",
       "      <td>2021</td>\n",
       "      <td>â??â??â??â??</td>\n",
       "      <td>molly</td>\n",
       "      <td>19-Sep-21</td>\n",
       "      <td>I relate to paul because i also have recurring dreams about zendaya</td>\n",
       "      <td>13</td>\n",
       "      <td>6  ,985 likes</td>\n",
       "      <td>1</td>\n",
       "    </tr>\n",
       "  </tbody>\n",
       "</table>\n",
       "</div>"
      ],
      "text/plain": [
       "      Movie name Release Year        Rating Reviewer name Review date  \\\n",
       "9    Dune (2021)         2021  â??â??â??â??      kÃ¡rsten    9-Aug-19   \n",
       "61   Dune (2021)         2021           NaN        cookie    6-Oct-21   \n",
       "326  Dune (2021)         2021  â??â??â??â??         molly   19-Sep-21   \n",
       "\n",
       "                                                                                                                                                                                    Review  \\\n",
       "9                                                                                          got the 4D experience by forgetting to drink water today and watching this extremely dehydrated   \n",
       "61   at one point a kid in front of me got so bored he started doing a headstand in his seat which would normally be annoying but in this case was the most entertaining part of the movie   \n",
       "326                                                                                                                    I relate to paul because i also have recurring dreams about zendaya   \n",
       "\n",
       "    Comment count       Like count  sentiment  \n",
       "9               4  19, 6  24 likes          1  \n",
       "61             49     14,143 likes          0  \n",
       "326            13    6  ,985 likes          1  "
      ]
     },
     "execution_count": 175,
     "metadata": {},
     "output_type": "execute_result"
    }
   ],
   "source": [
    "# Select film to analyse\n",
    "pd.set_option('display.max_colwidth', None) \n",
    "film_name='Dune (2021)'\n",
    "reviews_df[reviews_df['Movie name'] == film_name]"
   ]
  },
  {
   "cell_type": "code",
   "execution_count": null,
   "metadata": {},
   "outputs": [
    {
     "name": "stdout",
     "output_type": "stream",
     "text": [
      "The overall sentiment towards the Dune (2021) movie is 1.0\n"
     ]
    }
   ],
   "source": [
    "df = reviews_df.groupby('Movie name')['sentiment'].agg(['sum','size']) \n",
    "df = df.reset_index()\n",
    "df['overall sentiment'] = round(df['sum']/df['size']) # Determine he overall sentiment\n",
    "    \n",
    "print(f\"The overall sentiment towards the {film_name} movie is {df.loc[df['Movie name']==film_name,'overall sentiment'].values[0]}\")"
   ]
  },
  {
   "cell_type": "code",
   "execution_count": null,
   "metadata": {},
   "outputs": [
    {
     "data": {
      "text/html": [
       "<div>\n",
       "<style scoped>\n",
       "    .dataframe tbody tr th:only-of-type {\n",
       "        vertical-align: middle;\n",
       "    }\n",
       "\n",
       "    .dataframe tbody tr th {\n",
       "        vertical-align: top;\n",
       "    }\n",
       "\n",
       "    .dataframe thead th {\n",
       "        text-align: right;\n",
       "    }\n",
       "</style>\n",
       "<table border=\"1\" class=\"dataframe\">\n",
       "  <thead>\n",
       "    <tr style=\"text-align: right;\">\n",
       "      <th></th>\n",
       "      <th>Movie name</th>\n",
       "      <th>Release Year</th>\n",
       "      <th>Rating</th>\n",
       "      <th>Reviewer name</th>\n",
       "      <th>Review date</th>\n",
       "      <th>Review</th>\n",
       "      <th>Comment count</th>\n",
       "      <th>Like count</th>\n",
       "      <th>sentiment</th>\n",
       "    </tr>\n",
       "  </thead>\n",
       "  <tbody>\n",
       "    <tr>\n",
       "      <th>1725</th>\n",
       "      <td>Venom: Let There Be Carnage</td>\n",
       "      <td>2021</td>\n",
       "      <td>â??â??â??â??â??</td>\n",
       "      <td>comrade_yui</td>\n",
       "      <td>NaN</td>\n",
       "      <td>venom LITERALLY said gay rights!!!</td>\n",
       "      <td>6</td>\n",
       "      <td>3,686 likes</td>\n",
       "      <td>1</td>\n",
       "    </tr>\n",
       "    <tr>\n",
       "      <th>2076</th>\n",
       "      <td>Venom: Let There Be Carnage</td>\n",
       "      <td>2021</td>\n",
       "      <td>â??â??â??</td>\n",
       "      <td>Nicole Kubrick ð?³ï¸â?ð???ð?³ï¸â?â?§ï¸</td>\n",
       "      <td>30-Sep-21</td>\n",
       "      <td>More homosexual undertones than The Lighthouse. You think Iâ??m kidding but Iâ??m not.</td>\n",
       "      <td>19</td>\n",
       "      <td>NaN</td>\n",
       "      <td>1</td>\n",
       "    </tr>\n",
       "    <tr>\n",
       "      <th>2306</th>\n",
       "      <td>Venom: Let There Be Carnage</td>\n",
       "      <td>2021</td>\n",
       "      <td>â??â??â??</td>\n",
       "      <td>Vinny Simms</td>\n",
       "      <td>1-Oct-21</td>\n",
       "      <td>Venom goes to a gay rave and says heâ??s out of the Eddie closet</td>\n",
       "      <td>6</td>\n",
       "      <td>NaN</td>\n",
       "      <td>0</td>\n",
       "    </tr>\n",
       "    <tr>\n",
       "      <th>3967</th>\n",
       "      <td>Venom: Let There Be Carnage</td>\n",
       "      <td>2021</td>\n",
       "      <td>â??â??â??â??</td>\n",
       "      <td>rocky raccoon</td>\n",
       "      <td>30-Sep-21</td>\n",
       "      <td>just watched it. aside from the twelve minute long hardcore gay sex montage with Eddie and Venom it was kinda boring</td>\n",
       "      <td>1</td>\n",
       "      <td>NaN</td>\n",
       "      <td>0</td>\n",
       "    </tr>\n",
       "  </tbody>\n",
       "</table>\n",
       "</div>"
      ],
      "text/plain": [
       "                       Movie name Release Year           Rating  \\\n",
       "1725  Venom: Let There Be Carnage         2021  â??â??â??â??â??   \n",
       "2076  Venom: Let There Be Carnage         2021        â??â??â??   \n",
       "2306  Venom: Let There Be Carnage         2021        â??â??â??   \n",
       "3967  Venom: Let There Be Carnage         2021     â??â??â??â??   \n",
       "\n",
       "                                      Reviewer name Review date  \\\n",
       "1725                                    comrade_yui         NaN   \n",
       "2076  Nicole Kubrick ð?³ï¸â?ð???ð?³ï¸â?â?§ï¸   30-Sep-21   \n",
       "2306                                    Vinny Simms    1-Oct-21   \n",
       "3967                                  rocky raccoon   30-Sep-21   \n",
       "\n",
       "                                                                                                                    Review  \\\n",
       "1725                                                                                    venom LITERALLY said gay rights!!!   \n",
       "2076                                More homosexual undertones than The Lighthouse. You think Iâ??m kidding but Iâ??m not.   \n",
       "2306                                                      Venom goes to a gay rave and says heâ??s out of the Eddie closet   \n",
       "3967  just watched it. aside from the twelve minute long hardcore gay sex montage with Eddie and Venom it was kinda boring   \n",
       "\n",
       "     Comment count   Like count  sentiment  \n",
       "1725             6  3,686 likes          1  \n",
       "2076            19          NaN          1  \n",
       "2306             6          NaN          0  \n",
       "3967             1          NaN          0  "
      ]
     },
     "execution_count": 178,
     "metadata": {},
     "output_type": "execute_result"
    }
   ],
   "source": [
    "# Let's select another movie\n",
    "film_name='Venom: Let There Be Carnage' \n",
    "reviews_df[reviews_df['Movie name'] ==  film_name]"
   ]
  },
  {
   "cell_type": "code",
   "execution_count": null,
   "metadata": {},
   "outputs": [
    {
     "name": "stdout",
     "output_type": "stream",
     "text": [
      "The overall sentiment towards the Venom: Let There Be Carnage movie is 0.0\n"
     ]
    }
   ],
   "source": [
    "print(f\"The overall sentiment towards the {film_name} movie is {df.loc[df['Movie name']==film_name,'overall sentiment'].values[0]}\")"
   ]
  }
 ],
 "metadata": {
  "kernelspec": {
   "display_name": "Python 3",
   "language": "python",
   "name": "python3"
  },
  "language_info": {
   "codemirror_mode": {
    "name": "ipython",
    "version": 3
   },
   "file_extension": ".py",
   "mimetype": "text/x-python",
   "name": "python",
   "nbconvert_exporter": "python",
   "pygments_lexer": "ipython3",
   "version": "3.11.9"
  }
 },
 "nbformat": 4,
 "nbformat_minor": 2
}
